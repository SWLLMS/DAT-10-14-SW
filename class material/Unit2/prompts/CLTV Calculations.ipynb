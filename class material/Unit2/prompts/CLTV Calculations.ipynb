{
 "cells": [
  {
   "cell_type": "code",
   "execution_count": null,
   "metadata": {},
   "outputs": [],
   "source": [
    "total_orders = ss['Order ID'].nunique(sum)\n",
    "total_cust = ss['Customer ID'].nunique(sum)\n",
    "pur_freq = total_orders / total_cust\n",
    "pur_freq ###Purchase Frequency =  Total Number of Orders / Total Number of Customers"
   ]
  },
  {
   "cell_type": "code",
   "execution_count": null,
   "metadata": {},
   "outputs": [],
   "source": [
    "total_cust = ss['Customer ID'].nunique()\n",
    "total_orders = ss.groupby('Customer ID')['Order ID'].nunique()\n",
    "pur_freq = total_orders / total_cust ###Purchase Frequency =  Total Number of Orders / Total Number of Customers\n",
    "total_rev = ss['Sales'].sum()\n",
    "avo = total_rev/total_orders ###Average Order Value = Total Revenue / Total Number of Orders\n",
    "prof_mar = ss['Profit'].sum()\n",
    "cust_val = avo/pur_freq ###Customer Value = Average Order Value * Purchase Frequency\n",
    "rr = (total_orders > 1) / total_orders ### number of orders > 1/ number of orders = repeat rate\n",
    "cr = 1-rr ###Churn Rate = 1-Repeat Rate\n",
    "###CLTV = ((Average Order Value x Purchase Frequency)/Churn Rate) x Profit margin\n",
    "cltv = ((avo * pur_freq)/cr) * prof_mar"
   ]
  }
 ],
 "metadata": {
  "kernelspec": {
   "display_name": "Python 3",
   "language": "python",
   "name": "python3"
  },
  "language_info": {
   "codemirror_mode": {
    "name": "ipython",
    "version": 3
   },
   "file_extension": ".py",
   "mimetype": "text/x-python",
   "name": "python",
   "nbconvert_exporter": "python",
   "pygments_lexer": "ipython3",
   "version": "3.7.3"
  }
 },
 "nbformat": 4,
 "nbformat_minor": 2
}
