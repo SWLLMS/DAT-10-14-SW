{
 "cells": [
  {
   "cell_type": "markdown",
   "metadata": {},
   "source": [
    "## Superstore Challenge\n",
    "\n",
    "The superstore dataset is a collection of ~10,000 anonymized transactions from an e-commerce store that occurred between the years 2014 and 2017.  \n",
    "\n",
    "Your task here is to make a 'meta' dataset that aggregates information about what individual customers have done over their lifetime of interactions with the store.  \n",
    "\n",
    "When you're done you'll have a list of each unique customer in the store (going by their name), with information like their lifetime customer value, number of orders, and their ordering behavior measured over different lags of time.  \n",
    "\n",
    "This will be a helpful exercise to re-inforce some of the concepts discussed from class 6, like grouping and date offsets."
   ]
  },
  {
   "cell_type": "code",
   "execution_count": 6,
   "metadata": {},
   "outputs": [],
   "source": [
    "import pandas as pd\n",
    "import numpy as np\n",
    "\n",
    "ss = pd.read_excel('/Users/swllms/DAT-10-14-SW/class material/Unit2/data/superstore.xls', index_col='Date', parse_dates=['Date'])"
   ]
  },
  {
   "cell_type": "markdown",
   "metadata": {},
   "source": [
    "**Column 1:** Create a column that lists every customers lifetime customer value."
   ]
  },
  {
   "cell_type": "code",
   "execution_count": 8,
   "metadata": {},
   "outputs": [],
   "source": [
    "#cust_life = 1/cr ###Customer Lifetime = 1/Churn Rate"
   ]
  },
  {
   "cell_type": "code",
   "execution_count": 9,
   "metadata": {},
   "outputs": [
    {
     "data": {
      "text/plain": [
       "Customer Name\n",
       "Aaron Bergman      1.244473e+09\n",
       "Aaron Hawkins      9.679236e+08\n",
       "Aaron Smayling     9.679236e+08\n",
       "Adam Bellavance    9.481700e+08\n",
       "Adam Hart          9.218320e+08\n",
       "Name: Order ID, dtype: float64"
      ]
     },
     "execution_count": 9,
     "metadata": {},
     "output_type": "execute_result"
    }
   ],
   "source": [
    "total_cust = ss['Customer ID'].nunique()\n",
    "total_orders = ss.groupby('Customer Name')['Order ID'].nunique()\n",
    "pur_freq = total_orders / total_cust ###Purchase Frequency =  Total Number of Orders / Total Number of Customers\n",
    "total_rev = ss['Sales'].sum()\n",
    "avo = total_rev/total_orders ###Average Order Value = Total Revenue / Total Number of Orders\n",
    "prof_mar = ss['Profit'].sum()\n",
    "cust_val = avo/pur_freq ###Customer Value = Average Order Value * Purchase Frequency\n",
    "rr = (total_orders > 1) / total_orders ### number of orders > 1/ number of orders = repeat rate\n",
    "cr = 1-rr ###Churn Rate = 1-Repeat Rate\n",
    "###CLTV = ((Average Order Value x Purchase Frequency)/Churn Rate) x Profit margin\n",
    "cltv = ((avo * pur_freq)/cr) * prof_mar\n",
    "cltv.head()"
   ]
  },
  {
   "cell_type": "code",
   "execution_count": 11,
   "metadata": {},
   "outputs": [
    {
     "data": {
      "text/html": [
       "<div>\n",
       "<style scoped>\n",
       "    .dataframe tbody tr th:only-of-type {\n",
       "        vertical-align: middle;\n",
       "    }\n",
       "\n",
       "    .dataframe tbody tr th {\n",
       "        vertical-align: top;\n",
       "    }\n",
       "\n",
       "    .dataframe thead th {\n",
       "        text-align: right;\n",
       "    }\n",
       "</style>\n",
       "<table border=\"1\" class=\"dataframe\">\n",
       "  <thead>\n",
       "    <tr style=\"text-align: right;\">\n",
       "      <th></th>\n",
       "      <th>Sales</th>\n",
       "    </tr>\n",
       "    <tr>\n",
       "      <th>Customer Name</th>\n",
       "      <th></th>\n",
       "    </tr>\n",
       "  </thead>\n",
       "  <tbody>\n",
       "    <tr>\n",
       "      <th>Aaron Bergman</th>\n",
       "      <td>886.156</td>\n",
       "    </tr>\n",
       "    <tr>\n",
       "      <th>Aaron Hawkins</th>\n",
       "      <td>1744.700</td>\n",
       "    </tr>\n",
       "    <tr>\n",
       "      <th>Aaron Smayling</th>\n",
       "      <td>3050.692</td>\n",
       "    </tr>\n",
       "    <tr>\n",
       "      <th>Adam Bellavance</th>\n",
       "      <td>7755.620</td>\n",
       "    </tr>\n",
       "    <tr>\n",
       "      <th>Adam Hart</th>\n",
       "      <td>3250.337</td>\n",
       "    </tr>\n",
       "  </tbody>\n",
       "</table>\n",
       "</div>"
      ],
      "text/plain": [
       "                    Sales\n",
       "Customer Name            \n",
       "Aaron Bergman     886.156\n",
       "Aaron Hawkins    1744.700\n",
       "Aaron Smayling   3050.692\n",
       "Adam Bellavance  7755.620\n",
       "Adam Hart        3250.337"
      ]
     },
     "execution_count": 11,
     "metadata": {},
     "output_type": "execute_result"
    }
   ],
   "source": [
    "clv = ss.groupby('Customer Name')['Sales'].sum().to_frame()\n",
    "##cust_life_val = cust_life_val.to_frame().rename({'Sales': 'CLV'}, axis=1)\n",
    "###sales = ss.merge(cust_life_val, on='Customer Name', how='left')\n",
    "clv.head()"
   ]
  },
  {
   "cell_type": "markdown",
   "metadata": {},
   "source": [
    "**Column 2:** Create a column that lists the length of time each customer has been with the store.  This is defined as the number of days between when they made their first purchase and today."
   ]
  },
  {
   "cell_type": "code",
   "execution_count": 455,
   "metadata": {},
   "outputs": [],
   "source": [
    "### Merged it to the main colm\n",
    "#first_ord = ss.groupby('Customer Name')['Order Date'].min()\n",
    "#cust_duration = np.datetime64('now') - first_ord\n",
    "#cust_duration = cust_duration.to_frame().rename({'Order Date': 'Customer Duration'}, axis=1)\n",
    "#ss = ss.merge(cust_duration, on='Customer Name', how='left')\n",
    "#ss.head()"
   ]
  },
  {
   "cell_type": "code",
   "execution_count": 12,
   "metadata": {},
   "outputs": [
    {
     "data": {
      "text/html": [
       "<div>\n",
       "<style scoped>\n",
       "    .dataframe tbody tr th:only-of-type {\n",
       "        vertical-align: middle;\n",
       "    }\n",
       "\n",
       "    .dataframe tbody tr th {\n",
       "        vertical-align: top;\n",
       "    }\n",
       "\n",
       "    .dataframe thead th {\n",
       "        text-align: right;\n",
       "    }\n",
       "</style>\n",
       "<table border=\"1\" class=\"dataframe\">\n",
       "  <thead>\n",
       "    <tr style=\"text-align: right;\">\n",
       "      <th></th>\n",
       "      <th>Sales</th>\n",
       "      <th>Customer Duration</th>\n",
       "    </tr>\n",
       "    <tr>\n",
       "      <th>Customer Name</th>\n",
       "      <th></th>\n",
       "      <th></th>\n",
       "    </tr>\n",
       "  </thead>\n",
       "  <tbody>\n",
       "    <tr>\n",
       "      <th>Aaron Bergman</th>\n",
       "      <td>886.156</td>\n",
       "      <td>2094 days 15:20:59</td>\n",
       "    </tr>\n",
       "    <tr>\n",
       "      <th>Aaron Hawkins</th>\n",
       "      <td>1744.700</td>\n",
       "      <td>2031 days 15:20:59</td>\n",
       "    </tr>\n",
       "    <tr>\n",
       "      <th>Aaron Smayling</th>\n",
       "      <td>3050.692</td>\n",
       "      <td>1935 days 15:20:59</td>\n",
       "    </tr>\n",
       "    <tr>\n",
       "      <th>Adam Bellavance</th>\n",
       "      <td>7755.620</td>\n",
       "      <td>1517 days 15:20:59</td>\n",
       "    </tr>\n",
       "    <tr>\n",
       "      <th>Adam Hart</th>\n",
       "      <td>3250.337</td>\n",
       "      <td>1823 days 15:20:59</td>\n",
       "    </tr>\n",
       "  </tbody>\n",
       "</table>\n",
       "</div>"
      ],
      "text/plain": [
       "                    Sales  Customer Duration\n",
       "Customer Name                               \n",
       "Aaron Bergman     886.156 2094 days 15:20:59\n",
       "Aaron Hawkins    1744.700 2031 days 15:20:59\n",
       "Aaron Smayling   3050.692 1935 days 15:20:59\n",
       "Adam Bellavance  7755.620 1517 days 15:20:59\n",
       "Adam Hart        3250.337 1823 days 15:20:59"
      ]
     },
     "execution_count": 12,
     "metadata": {},
     "output_type": "execute_result"
    }
   ],
   "source": [
    "# length of time customer has been with us\n",
    "first_ord = ss.groupby(['Customer Name'])['Order Date'].min()\n",
    "lot = np.datetime64('now') - first_ord\n",
    "clv = clv.merge(lot.to_frame(), on='Customer Name')\n",
    "clv.rename({'Order Date': 'Customer Duration'}, axis=1, inplace=True)\n",
    "clv.head()"
   ]
  },
  {
   "cell_type": "markdown",
   "metadata": {},
   "source": [
    "**Column 3:** Create a column that lists the total number of purchases for each customer."
   ]
  },
  {
   "cell_type": "code",
   "execution_count": 457,
   "metadata": {},
   "outputs": [],
   "source": [
    "###Merged to main dataframe\n",
    "#cust_tot_pur = ss.groupby('Customer ID')['Order ID'].nunique(sum)\n",
    "#cust_tot_pur = cust_tot_pur.to_frame().rename({'Order ID': 'All Orders'}, axis=1)\n",
    "#ss = ss.merge(cust_tot_pur, on='Customer ID', how='left')"
   ]
  },
  {
   "cell_type": "code",
   "execution_count": 13,
   "metadata": {},
   "outputs": [
    {
     "data": {
      "text/html": [
       "<div>\n",
       "<style scoped>\n",
       "    .dataframe tbody tr th:only-of-type {\n",
       "        vertical-align: middle;\n",
       "    }\n",
       "\n",
       "    .dataframe tbody tr th {\n",
       "        vertical-align: top;\n",
       "    }\n",
       "\n",
       "    .dataframe thead th {\n",
       "        text-align: right;\n",
       "    }\n",
       "</style>\n",
       "<table border=\"1\" class=\"dataframe\">\n",
       "  <thead>\n",
       "    <tr style=\"text-align: right;\">\n",
       "      <th></th>\n",
       "      <th>Sales</th>\n",
       "      <th>Customer Duration</th>\n",
       "      <th>Total Purchases</th>\n",
       "    </tr>\n",
       "    <tr>\n",
       "      <th>Customer Name</th>\n",
       "      <th></th>\n",
       "      <th></th>\n",
       "      <th></th>\n",
       "    </tr>\n",
       "  </thead>\n",
       "  <tbody>\n",
       "    <tr>\n",
       "      <th>Aaron Bergman</th>\n",
       "      <td>886.156</td>\n",
       "      <td>2094 days 15:20:59</td>\n",
       "      <td>3</td>\n",
       "    </tr>\n",
       "    <tr>\n",
       "      <th>Aaron Hawkins</th>\n",
       "      <td>1744.700</td>\n",
       "      <td>2031 days 15:20:59</td>\n",
       "      <td>7</td>\n",
       "    </tr>\n",
       "    <tr>\n",
       "      <th>Aaron Smayling</th>\n",
       "      <td>3050.692</td>\n",
       "      <td>1935 days 15:20:59</td>\n",
       "      <td>7</td>\n",
       "    </tr>\n",
       "    <tr>\n",
       "      <th>Adam Bellavance</th>\n",
       "      <td>7755.620</td>\n",
       "      <td>1517 days 15:20:59</td>\n",
       "      <td>8</td>\n",
       "    </tr>\n",
       "    <tr>\n",
       "      <th>Adam Hart</th>\n",
       "      <td>3250.337</td>\n",
       "      <td>1823 days 15:20:59</td>\n",
       "      <td>10</td>\n",
       "    </tr>\n",
       "  </tbody>\n",
       "</table>\n",
       "</div>"
      ],
      "text/plain": [
       "                    Sales  Customer Duration  Total Purchases\n",
       "Customer Name                                                \n",
       "Aaron Bergman     886.156 2094 days 15:20:59                3\n",
       "Aaron Hawkins    1744.700 2031 days 15:20:59                7\n",
       "Aaron Smayling   3050.692 1935 days 15:20:59                7\n",
       "Adam Bellavance  7755.620 1517 days 15:20:59                8\n",
       "Adam Hart        3250.337 1823 days 15:20:59               10"
      ]
     },
     "execution_count": 13,
     "metadata": {},
     "output_type": "execute_result"
    }
   ],
   "source": [
    "cust_tot_pur = ss.groupby('Customer Name')['Order ID'].nunique(sum)\n",
    "clv = clv.merge(cust_tot_pur.to_frame(), on='Customer Name')\n",
    "clv.rename({'Order ID': 'Total Purchases'}, axis=1, inplace=True)\n",
    "clv.head()"
   ]
  },
  {
   "cell_type": "markdown",
   "metadata": {},
   "source": [
    "**Column 4:** Create a column that assigns customers to a cohort.  \n",
    "\n",
    "A customers cohort is determined by when they made their first purchase, and every year in your dataset has two cohorts:  the first half of the year and the second half.  \n",
    "\n",
    "For example, if someone made their first purchase in March of 2017, their cohort would be 2017-1, or something similar.  Someone who purchased in September of 2017 would be 2017-2, and so on."
   ]
  },
  {
   "cell_type": "code",
   "execution_count": 14,
   "metadata": {},
   "outputs": [
    {
     "data": {
      "text/html": [
       "<div>\n",
       "<style scoped>\n",
       "    .dataframe tbody tr th:only-of-type {\n",
       "        vertical-align: middle;\n",
       "    }\n",
       "\n",
       "    .dataframe tbody tr th {\n",
       "        vertical-align: top;\n",
       "    }\n",
       "\n",
       "    .dataframe thead th {\n",
       "        text-align: right;\n",
       "    }\n",
       "</style>\n",
       "<table border=\"1\" class=\"dataframe\">\n",
       "  <thead>\n",
       "    <tr style=\"text-align: right;\">\n",
       "      <th></th>\n",
       "      <th>Sales</th>\n",
       "      <th>Customer Duration</th>\n",
       "      <th>Total Purchases</th>\n",
       "      <th>Cohort</th>\n",
       "    </tr>\n",
       "    <tr>\n",
       "      <th>Customer Name</th>\n",
       "      <th></th>\n",
       "      <th></th>\n",
       "      <th></th>\n",
       "      <th></th>\n",
       "    </tr>\n",
       "  </thead>\n",
       "  <tbody>\n",
       "    <tr>\n",
       "      <th>Aaron Bergman</th>\n",
       "      <td>886.156</td>\n",
       "      <td>2094 days 15:20:59</td>\n",
       "      <td>3</td>\n",
       "      <td>1H-14</td>\n",
       "    </tr>\n",
       "    <tr>\n",
       "      <th>Aaron Hawkins</th>\n",
       "      <td>1744.700</td>\n",
       "      <td>2031 days 15:20:59</td>\n",
       "      <td>7</td>\n",
       "      <td>1H-14</td>\n",
       "    </tr>\n",
       "    <tr>\n",
       "      <th>Aaron Smayling</th>\n",
       "      <td>3050.692</td>\n",
       "      <td>1935 days 15:20:59</td>\n",
       "      <td>7</td>\n",
       "      <td>2H-14</td>\n",
       "    </tr>\n",
       "    <tr>\n",
       "      <th>Adam Bellavance</th>\n",
       "      <td>7755.620</td>\n",
       "      <td>1517 days 15:20:59</td>\n",
       "      <td>8</td>\n",
       "      <td>2H-15</td>\n",
       "    </tr>\n",
       "    <tr>\n",
       "      <th>Adam Hart</th>\n",
       "      <td>3250.337</td>\n",
       "      <td>1823 days 15:20:59</td>\n",
       "      <td>10</td>\n",
       "      <td>2H-14</td>\n",
       "    </tr>\n",
       "  </tbody>\n",
       "</table>\n",
       "</div>"
      ],
      "text/plain": [
       "                    Sales  Customer Duration  Total Purchases Cohort\n",
       "Customer Name                                                       \n",
       "Aaron Bergman     886.156 2094 days 15:20:59                3  1H-14\n",
       "Aaron Hawkins    1744.700 2031 days 15:20:59                7  1H-14\n",
       "Aaron Smayling   3050.692 1935 days 15:20:59                7  2H-14\n",
       "Adam Bellavance  7755.620 1517 days 15:20:59                8  2H-15\n",
       "Adam Hart        3250.337 1823 days 15:20:59               10  2H-14"
      ]
     },
     "execution_count": 14,
     "metadata": {},
     "output_type": "execute_result"
    }
   ],
   "source": [
    "#first_ord = ss.groupby('Customer Name')['Order Date'].min()\n",
    "\n",
    "date_range =[\n",
    "    first_ord.between('01/01/2014', '06/30/2014'),\n",
    "    first_ord.between('07/01/2014', '12/31/2014'),\n",
    "    first_ord.between('01/01/2015', '06/30/2015'),\n",
    "    first_ord.between('07/01/2015', '12/31/2015'),    \n",
    "    first_ord.between('01/01/2016', '06/30/2016'),\n",
    "    first_ord.between('07/01/2016', '12/31/2016'),\n",
    "    first_ord.between('01/01/2017', '06/30/2017'),\n",
    "    first_ord.between('07/01/2017', '12/31/2017')\n",
    "]\n",
    "\n",
    "group = [\n",
    "    '1H-14', \n",
    "    '2H-14', \n",
    "    '1H-15', \n",
    "    '2H-15', \n",
    "    '1H-16', \n",
    "    '2H-16', \n",
    "    '1H-17', \n",
    "    '2H-17'\n",
    "]\n",
    "clv['Cohort'] = np.select(date_range, group, 'Other')\n",
    "clv.head()"
   ]
  },
  {
   "cell_type": "code",
   "execution_count": 510,
   "metadata": {},
   "outputs": [],
   "source": [
    "### Could not merge this to main df because of 'numpy.ndarray' object has no attribute 'to frame'\n",
    "#cohort = cohort.to_frame().rename({'Order Date': 'Cohort'}, axis=1)\n",
    "#ss = ss.merge(cohort, on='Customer Name', how='left')"
   ]
  },
  {
   "cell_type": "markdown",
   "metadata": {},
   "source": [
    "**Column 5:** Create a column that lists whether or not they're a repeat customer.  This means they've made more than one order."
   ]
  },
  {
   "cell_type": "code",
   "execution_count": 495,
   "metadata": {},
   "outputs": [],
   "source": [
    "### My answer resulted in a new colm titled order id instead of repeat customer. \n",
    "#total_orders = clv.groupby('Customer Name')['Total Purchases'].nunique(sum)\n",
    "#repeat_cust = total_orders > 1\n",
    "#clv = clv.merge(cust_tot_pur.to_frame(), on='Customer Name')\n",
    "#clv.rename({'Total Purchases': 'Repeat Customer'}, axis=1)\n",
    "#clv.head()"
   ]
  },
  {
   "cell_type": "code",
   "execution_count": 15,
   "metadata": {},
   "outputs": [
    {
     "data": {
      "text/html": [
       "<div>\n",
       "<style scoped>\n",
       "    .dataframe tbody tr th:only-of-type {\n",
       "        vertical-align: middle;\n",
       "    }\n",
       "\n",
       "    .dataframe tbody tr th {\n",
       "        vertical-align: top;\n",
       "    }\n",
       "\n",
       "    .dataframe thead th {\n",
       "        text-align: right;\n",
       "    }\n",
       "</style>\n",
       "<table border=\"1\" class=\"dataframe\">\n",
       "  <thead>\n",
       "    <tr style=\"text-align: right;\">\n",
       "      <th></th>\n",
       "      <th>Sales</th>\n",
       "      <th>Customer Duration</th>\n",
       "      <th>Total Purchases</th>\n",
       "      <th>Cohort</th>\n",
       "      <th>Repeat Customer</th>\n",
       "    </tr>\n",
       "    <tr>\n",
       "      <th>Customer Name</th>\n",
       "      <th></th>\n",
       "      <th></th>\n",
       "      <th></th>\n",
       "      <th></th>\n",
       "      <th></th>\n",
       "    </tr>\n",
       "  </thead>\n",
       "  <tbody>\n",
       "    <tr>\n",
       "      <th>Aaron Bergman</th>\n",
       "      <td>886.156</td>\n",
       "      <td>2094 days 15:20:59</td>\n",
       "      <td>3</td>\n",
       "      <td>1H-14</td>\n",
       "      <td>True</td>\n",
       "    </tr>\n",
       "    <tr>\n",
       "      <th>Aaron Hawkins</th>\n",
       "      <td>1744.700</td>\n",
       "      <td>2031 days 15:20:59</td>\n",
       "      <td>7</td>\n",
       "      <td>1H-14</td>\n",
       "      <td>True</td>\n",
       "    </tr>\n",
       "    <tr>\n",
       "      <th>Aaron Smayling</th>\n",
       "      <td>3050.692</td>\n",
       "      <td>1935 days 15:20:59</td>\n",
       "      <td>7</td>\n",
       "      <td>2H-14</td>\n",
       "      <td>True</td>\n",
       "    </tr>\n",
       "    <tr>\n",
       "      <th>Adam Bellavance</th>\n",
       "      <td>7755.620</td>\n",
       "      <td>1517 days 15:20:59</td>\n",
       "      <td>8</td>\n",
       "      <td>2H-15</td>\n",
       "      <td>True</td>\n",
       "    </tr>\n",
       "    <tr>\n",
       "      <th>Adam Hart</th>\n",
       "      <td>3250.337</td>\n",
       "      <td>1823 days 15:20:59</td>\n",
       "      <td>10</td>\n",
       "      <td>2H-14</td>\n",
       "      <td>True</td>\n",
       "    </tr>\n",
       "  </tbody>\n",
       "</table>\n",
       "</div>"
      ],
      "text/plain": [
       "                    Sales  Customer Duration  Total Purchases Cohort  \\\n",
       "Customer Name                                                          \n",
       "Aaron Bergman     886.156 2094 days 15:20:59                3  1H-14   \n",
       "Aaron Hawkins    1744.700 2031 days 15:20:59                7  1H-14   \n",
       "Aaron Smayling   3050.692 1935 days 15:20:59                7  2H-14   \n",
       "Adam Bellavance  7755.620 1517 days 15:20:59                8  2H-15   \n",
       "Adam Hart        3250.337 1823 days 15:20:59               10  2H-14   \n",
       "\n",
       "                 Repeat Customer  \n",
       "Customer Name                     \n",
       "Aaron Bergman               True  \n",
       "Aaron Hawkins               True  \n",
       "Aaron Smayling              True  \n",
       "Adam Bellavance             True  \n",
       "Adam Hart                   True  "
      ]
     },
     "execution_count": 15,
     "metadata": {},
     "output_type": "execute_result"
    }
   ],
   "source": [
    "clv['Repeat Customer'] = np.where(clv['Total Purchases'] > 1, True, False)\n",
    "clv.head()"
   ]
  },
  {
   "cell_type": "markdown",
   "metadata": {},
   "source": [
    "**Column 6:** We want to find out what type of customer each person is.  To do this, we want to find which value of 'Segment' occurred most frequently for every single customer.  Ie, the modal value of the 'Segment' column for each customer."
   ]
  },
  {
   "cell_type": "code",
   "execution_count": 431,
   "metadata": {},
   "outputs": [],
   "source": [
    "###merged to maine df\n",
    "#seg_freq = ss.groupby('Customer Name')['Segment'].agg(pd.Series.mode)\n",
    "#seg_freq = seg_freq.to_frame().rename({'Segment': 'Segment Mode'}, axis=1)\n",
    "#ss = ss.merge(seg_freq, on='Customer Name', how='left')"
   ]
  },
  {
   "cell_type": "code",
   "execution_count": 16,
   "metadata": {},
   "outputs": [
    {
     "data": {
      "text/html": [
       "<div>\n",
       "<style scoped>\n",
       "    .dataframe tbody tr th:only-of-type {\n",
       "        vertical-align: middle;\n",
       "    }\n",
       "\n",
       "    .dataframe tbody tr th {\n",
       "        vertical-align: top;\n",
       "    }\n",
       "\n",
       "    .dataframe thead th {\n",
       "        text-align: right;\n",
       "    }\n",
       "</style>\n",
       "<table border=\"1\" class=\"dataframe\">\n",
       "  <thead>\n",
       "    <tr style=\"text-align: right;\">\n",
       "      <th></th>\n",
       "      <th>Sales</th>\n",
       "      <th>Customer Duration</th>\n",
       "      <th>Total Purchases</th>\n",
       "      <th>Cohort</th>\n",
       "      <th>Repeat Customer</th>\n",
       "      <th>Segment</th>\n",
       "    </tr>\n",
       "    <tr>\n",
       "      <th>Customer Name</th>\n",
       "      <th></th>\n",
       "      <th></th>\n",
       "      <th></th>\n",
       "      <th></th>\n",
       "      <th></th>\n",
       "      <th></th>\n",
       "    </tr>\n",
       "  </thead>\n",
       "  <tbody>\n",
       "    <tr>\n",
       "      <th>Aaron Bergman</th>\n",
       "      <td>886.156</td>\n",
       "      <td>2094 days 15:20:59</td>\n",
       "      <td>3</td>\n",
       "      <td>1H-14</td>\n",
       "      <td>True</td>\n",
       "      <td>Consumer</td>\n",
       "    </tr>\n",
       "    <tr>\n",
       "      <th>Aaron Hawkins</th>\n",
       "      <td>1744.700</td>\n",
       "      <td>2031 days 15:20:59</td>\n",
       "      <td>7</td>\n",
       "      <td>1H-14</td>\n",
       "      <td>True</td>\n",
       "      <td>Corporate</td>\n",
       "    </tr>\n",
       "    <tr>\n",
       "      <th>Aaron Smayling</th>\n",
       "      <td>3050.692</td>\n",
       "      <td>1935 days 15:20:59</td>\n",
       "      <td>7</td>\n",
       "      <td>2H-14</td>\n",
       "      <td>True</td>\n",
       "      <td>Corporate</td>\n",
       "    </tr>\n",
       "    <tr>\n",
       "      <th>Adam Bellavance</th>\n",
       "      <td>7755.620</td>\n",
       "      <td>1517 days 15:20:59</td>\n",
       "      <td>8</td>\n",
       "      <td>2H-15</td>\n",
       "      <td>True</td>\n",
       "      <td>Home Office</td>\n",
       "    </tr>\n",
       "    <tr>\n",
       "      <th>Adam Hart</th>\n",
       "      <td>3250.337</td>\n",
       "      <td>1823 days 15:20:59</td>\n",
       "      <td>10</td>\n",
       "      <td>2H-14</td>\n",
       "      <td>True</td>\n",
       "      <td>Corporate</td>\n",
       "    </tr>\n",
       "  </tbody>\n",
       "</table>\n",
       "</div>"
      ],
      "text/plain": [
       "                    Sales  Customer Duration  Total Purchases Cohort  \\\n",
       "Customer Name                                                          \n",
       "Aaron Bergman     886.156 2094 days 15:20:59                3  1H-14   \n",
       "Aaron Hawkins    1744.700 2031 days 15:20:59                7  1H-14   \n",
       "Aaron Smayling   3050.692 1935 days 15:20:59                7  2H-14   \n",
       "Adam Bellavance  7755.620 1517 days 15:20:59                8  2H-15   \n",
       "Adam Hart        3250.337 1823 days 15:20:59               10  2H-14   \n",
       "\n",
       "                 Repeat Customer      Segment  \n",
       "Customer Name                                  \n",
       "Aaron Bergman               True     Consumer  \n",
       "Aaron Hawkins               True    Corporate  \n",
       "Aaron Smayling              True    Corporate  \n",
       "Adam Bellavance             True  Home Office  \n",
       "Adam Hart                   True    Corporate  "
      ]
     },
     "execution_count": 16,
     "metadata": {},
     "output_type": "execute_result"
    }
   ],
   "source": [
    "seg_freq = ss.groupby('Customer Name')['Segment'].agg(pd.Series.mode)\n",
    "clv = clv.merge(seg_freq.to_frame(), on='Customer Name')\n",
    "clv.head()"
   ]
  },
  {
   "cell_type": "markdown",
   "metadata": {},
   "source": [
    "**Column 7:** Create a column that is the date *3 months after they made their first purchase*."
   ]
  },
  {
   "cell_type": "code",
   "execution_count": 17,
   "metadata": {},
   "outputs": [],
   "source": [
    "three_mo_after = pd.DateOffset(months=3)"
   ]
  },
  {
   "cell_type": "code",
   "execution_count": 18,
   "metadata": {},
   "outputs": [
    {
     "data": {
      "text/html": [
       "<div>\n",
       "<style scoped>\n",
       "    .dataframe tbody tr th:only-of-type {\n",
       "        vertical-align: middle;\n",
       "    }\n",
       "\n",
       "    .dataframe tbody tr th {\n",
       "        vertical-align: top;\n",
       "    }\n",
       "\n",
       "    .dataframe thead th {\n",
       "        text-align: right;\n",
       "    }\n",
       "</style>\n",
       "<table border=\"1\" class=\"dataframe\">\n",
       "  <thead>\n",
       "    <tr style=\"text-align: right;\">\n",
       "      <th></th>\n",
       "      <th>Sales</th>\n",
       "      <th>Customer Duration</th>\n",
       "      <th>Total Purchases</th>\n",
       "      <th>Cohort</th>\n",
       "      <th>Repeat Customer</th>\n",
       "      <th>Segment</th>\n",
       "      <th>3M After Purchase 1</th>\n",
       "    </tr>\n",
       "    <tr>\n",
       "      <th>Customer Name</th>\n",
       "      <th></th>\n",
       "      <th></th>\n",
       "      <th></th>\n",
       "      <th></th>\n",
       "      <th></th>\n",
       "      <th></th>\n",
       "      <th></th>\n",
       "    </tr>\n",
       "  </thead>\n",
       "  <tbody>\n",
       "    <tr>\n",
       "      <th>Aaron Bergman</th>\n",
       "      <td>886.156</td>\n",
       "      <td>2094 days 15:20:59</td>\n",
       "      <td>3</td>\n",
       "      <td>1H-14</td>\n",
       "      <td>True</td>\n",
       "      <td>Consumer</td>\n",
       "      <td>2014-05-18</td>\n",
       "    </tr>\n",
       "    <tr>\n",
       "      <th>Aaron Hawkins</th>\n",
       "      <td>1744.700</td>\n",
       "      <td>2031 days 15:20:59</td>\n",
       "      <td>7</td>\n",
       "      <td>1H-14</td>\n",
       "      <td>True</td>\n",
       "      <td>Corporate</td>\n",
       "      <td>2014-07-22</td>\n",
       "    </tr>\n",
       "  </tbody>\n",
       "</table>\n",
       "</div>"
      ],
      "text/plain": [
       "                  Sales  Customer Duration  Total Purchases Cohort  \\\n",
       "Customer Name                                                        \n",
       "Aaron Bergman   886.156 2094 days 15:20:59                3  1H-14   \n",
       "Aaron Hawkins  1744.700 2031 days 15:20:59                7  1H-14   \n",
       "\n",
       "               Repeat Customer    Segment 3M After Purchase 1  \n",
       "Customer Name                                                  \n",
       "Aaron Bergman             True   Consumer          2014-05-18  \n",
       "Aaron Hawkins             True  Corporate          2014-07-22  "
      ]
     },
     "execution_count": 18,
     "metadata": {},
     "output_type": "execute_result"
    }
   ],
   "source": [
    "three_mon_after_1_pur = ss.groupby('Customer Name')['Order Date'].min() + three_mo_after\n",
    "three_mon_after_1_pur = three_mon_after_1_pur.to_frame().rename({'Order Date': '3M After Purchase 1'}, axis=1)\n",
    "clv = clv.merge(three_mon_after_1_pur, on='Customer Name')\n",
    "ss = ss.merge(three_mon_after_1_pur, on='Customer Name')\n",
    "clv.head(2)"
   ]
  },
  {
   "cell_type": "markdown",
   "metadata": {},
   "source": [
    "**Column 8:** Make a column that represents one year after they made their first purchase.  Add this to your initial dataframe as well."
   ]
  },
  {
   "cell_type": "code",
   "execution_count": 19,
   "metadata": {},
   "outputs": [
    {
     "data": {
      "text/html": [
       "<div>\n",
       "<style scoped>\n",
       "    .dataframe tbody tr th:only-of-type {\n",
       "        vertical-align: middle;\n",
       "    }\n",
       "\n",
       "    .dataframe tbody tr th {\n",
       "        vertical-align: top;\n",
       "    }\n",
       "\n",
       "    .dataframe thead th {\n",
       "        text-align: right;\n",
       "    }\n",
       "</style>\n",
       "<table border=\"1\" class=\"dataframe\">\n",
       "  <thead>\n",
       "    <tr style=\"text-align: right;\">\n",
       "      <th></th>\n",
       "      <th>Sales</th>\n",
       "      <th>Customer Duration</th>\n",
       "      <th>Total Purchases</th>\n",
       "      <th>Cohort</th>\n",
       "      <th>Repeat Customer</th>\n",
       "      <th>Segment</th>\n",
       "      <th>3M After Purchase 1</th>\n",
       "      <th>1YR After Purchase 1</th>\n",
       "    </tr>\n",
       "    <tr>\n",
       "      <th>Customer Name</th>\n",
       "      <th></th>\n",
       "      <th></th>\n",
       "      <th></th>\n",
       "      <th></th>\n",
       "      <th></th>\n",
       "      <th></th>\n",
       "      <th></th>\n",
       "      <th></th>\n",
       "    </tr>\n",
       "  </thead>\n",
       "  <tbody>\n",
       "    <tr>\n",
       "      <th>Aaron Bergman</th>\n",
       "      <td>886.156</td>\n",
       "      <td>2094 days 15:20:59</td>\n",
       "      <td>3</td>\n",
       "      <td>1H-14</td>\n",
       "      <td>True</td>\n",
       "      <td>Consumer</td>\n",
       "      <td>2014-05-18</td>\n",
       "      <td>2015-02-18</td>\n",
       "    </tr>\n",
       "    <tr>\n",
       "      <th>Aaron Hawkins</th>\n",
       "      <td>1744.700</td>\n",
       "      <td>2031 days 15:20:59</td>\n",
       "      <td>7</td>\n",
       "      <td>1H-14</td>\n",
       "      <td>True</td>\n",
       "      <td>Corporate</td>\n",
       "      <td>2014-07-22</td>\n",
       "      <td>2015-04-22</td>\n",
       "    </tr>\n",
       "    <tr>\n",
       "      <th>Aaron Smayling</th>\n",
       "      <td>3050.692</td>\n",
       "      <td>1935 days 15:20:59</td>\n",
       "      <td>7</td>\n",
       "      <td>2H-14</td>\n",
       "      <td>True</td>\n",
       "      <td>Corporate</td>\n",
       "      <td>2014-10-27</td>\n",
       "      <td>2015-07-27</td>\n",
       "    </tr>\n",
       "    <tr>\n",
       "      <th>Adam Bellavance</th>\n",
       "      <td>7755.620</td>\n",
       "      <td>1517 days 15:20:59</td>\n",
       "      <td>8</td>\n",
       "      <td>2H-15</td>\n",
       "      <td>True</td>\n",
       "      <td>Home Office</td>\n",
       "      <td>2015-12-18</td>\n",
       "      <td>2016-09-18</td>\n",
       "    </tr>\n",
       "    <tr>\n",
       "      <th>Adam Hart</th>\n",
       "      <td>3250.337</td>\n",
       "      <td>1823 days 15:20:59</td>\n",
       "      <td>10</td>\n",
       "      <td>2H-14</td>\n",
       "      <td>True</td>\n",
       "      <td>Corporate</td>\n",
       "      <td>2015-02-16</td>\n",
       "      <td>2015-11-16</td>\n",
       "    </tr>\n",
       "  </tbody>\n",
       "</table>\n",
       "</div>"
      ],
      "text/plain": [
       "                    Sales  Customer Duration  Total Purchases Cohort  \\\n",
       "Customer Name                                                          \n",
       "Aaron Bergman     886.156 2094 days 15:20:59                3  1H-14   \n",
       "Aaron Hawkins    1744.700 2031 days 15:20:59                7  1H-14   \n",
       "Aaron Smayling   3050.692 1935 days 15:20:59                7  2H-14   \n",
       "Adam Bellavance  7755.620 1517 days 15:20:59                8  2H-15   \n",
       "Adam Hart        3250.337 1823 days 15:20:59               10  2H-14   \n",
       "\n",
       "                 Repeat Customer      Segment 3M After Purchase 1  \\\n",
       "Customer Name                                                       \n",
       "Aaron Bergman               True     Consumer          2014-05-18   \n",
       "Aaron Hawkins               True    Corporate          2014-07-22   \n",
       "Aaron Smayling              True    Corporate          2014-10-27   \n",
       "Adam Bellavance             True  Home Office          2015-12-18   \n",
       "Adam Hart                   True    Corporate          2015-02-16   \n",
       "\n",
       "                1YR After Purchase 1  \n",
       "Customer Name                         \n",
       "Aaron Bergman             2015-02-18  \n",
       "Aaron Hawkins             2015-04-22  \n",
       "Aaron Smayling            2015-07-27  \n",
       "Adam Bellavance           2016-09-18  \n",
       "Adam Hart                 2015-11-16  "
      ]
     },
     "execution_count": 19,
     "metadata": {},
     "output_type": "execute_result"
    }
   ],
   "source": [
    "one_year = pd.DateOffset(years=1)\n",
    "clv['1YR After Purchase 1'] = first_ord + one_year\n",
    "clv.head()"
   ]
  },
  {
   "cell_type": "code",
   "execution_count": 20,
   "metadata": {},
   "outputs": [
    {
     "data": {
      "text/html": [
       "<div>\n",
       "<style scoped>\n",
       "    .dataframe tbody tr th:only-of-type {\n",
       "        vertical-align: middle;\n",
       "    }\n",
       "\n",
       "    .dataframe tbody tr th {\n",
       "        vertical-align: top;\n",
       "    }\n",
       "\n",
       "    .dataframe thead th {\n",
       "        text-align: right;\n",
       "    }\n",
       "</style>\n",
       "<table border=\"1\" class=\"dataframe\">\n",
       "  <thead>\n",
       "    <tr style=\"text-align: right;\">\n",
       "      <th></th>\n",
       "      <th>Row ID</th>\n",
       "      <th>Order ID</th>\n",
       "      <th>Order Date</th>\n",
       "      <th>Ship Date</th>\n",
       "      <th>Ship Mode</th>\n",
       "      <th>Customer ID</th>\n",
       "      <th>Customer Name</th>\n",
       "      <th>Segment</th>\n",
       "      <th>Country</th>\n",
       "      <th>City</th>\n",
       "      <th>...</th>\n",
       "      <th>Product ID</th>\n",
       "      <th>Category</th>\n",
       "      <th>Sub-Category</th>\n",
       "      <th>Product Name</th>\n",
       "      <th>Sales</th>\n",
       "      <th>Quantity</th>\n",
       "      <th>Discount</th>\n",
       "      <th>Profit</th>\n",
       "      <th>3M After Purchase 1</th>\n",
       "      <th>1YR After Purchase 1</th>\n",
       "    </tr>\n",
       "  </thead>\n",
       "  <tbody>\n",
       "    <tr>\n",
       "      <th>0</th>\n",
       "      <td>1</td>\n",
       "      <td>CA-2016-152156</td>\n",
       "      <td>2016-11-08</td>\n",
       "      <td>2016-11-11</td>\n",
       "      <td>Second Class</td>\n",
       "      <td>CG-12520</td>\n",
       "      <td>Claire Gute</td>\n",
       "      <td>Consumer</td>\n",
       "      <td>United States</td>\n",
       "      <td>Henderson</td>\n",
       "      <td>...</td>\n",
       "      <td>FUR-BO-10001798</td>\n",
       "      <td>Furniture</td>\n",
       "      <td>Bookcases</td>\n",
       "      <td>Bush Somerset Collection Bookcase</td>\n",
       "      <td>261.960</td>\n",
       "      <td>2</td>\n",
       "      <td>0.0</td>\n",
       "      <td>41.9136</td>\n",
       "      <td>2016-01-15</td>\n",
       "      <td>2016-10-15</td>\n",
       "    </tr>\n",
       "    <tr>\n",
       "      <th>1</th>\n",
       "      <td>2</td>\n",
       "      <td>CA-2016-152156</td>\n",
       "      <td>2016-11-08</td>\n",
       "      <td>2016-11-11</td>\n",
       "      <td>Second Class</td>\n",
       "      <td>CG-12520</td>\n",
       "      <td>Claire Gute</td>\n",
       "      <td>Consumer</td>\n",
       "      <td>United States</td>\n",
       "      <td>Henderson</td>\n",
       "      <td>...</td>\n",
       "      <td>FUR-CH-10000454</td>\n",
       "      <td>Furniture</td>\n",
       "      <td>Chairs</td>\n",
       "      <td>Hon Deluxe Fabric Upholstered Stacking Chairs,...</td>\n",
       "      <td>731.940</td>\n",
       "      <td>3</td>\n",
       "      <td>0.0</td>\n",
       "      <td>219.5820</td>\n",
       "      <td>2016-01-15</td>\n",
       "      <td>2016-10-15</td>\n",
       "    </tr>\n",
       "    <tr>\n",
       "      <th>2</th>\n",
       "      <td>5492</td>\n",
       "      <td>CA-2017-164098</td>\n",
       "      <td>2017-01-26</td>\n",
       "      <td>2017-01-27</td>\n",
       "      <td>First Class</td>\n",
       "      <td>CG-12520</td>\n",
       "      <td>Claire Gute</td>\n",
       "      <td>Consumer</td>\n",
       "      <td>United States</td>\n",
       "      <td>Houston</td>\n",
       "      <td>...</td>\n",
       "      <td>OFF-ST-10000615</td>\n",
       "      <td>Office Supplies</td>\n",
       "      <td>Storage</td>\n",
       "      <td>SimpliFile Personal File, Black Granite, 15w x...</td>\n",
       "      <td>18.160</td>\n",
       "      <td>2</td>\n",
       "      <td>0.2</td>\n",
       "      <td>1.8160</td>\n",
       "      <td>2016-01-15</td>\n",
       "      <td>2016-10-15</td>\n",
       "    </tr>\n",
       "    <tr>\n",
       "      <th>3</th>\n",
       "      <td>6878</td>\n",
       "      <td>US-2015-123918</td>\n",
       "      <td>2015-10-15</td>\n",
       "      <td>2015-10-15</td>\n",
       "      <td>Same Day</td>\n",
       "      <td>CG-12520</td>\n",
       "      <td>Claire Gute</td>\n",
       "      <td>Consumer</td>\n",
       "      <td>United States</td>\n",
       "      <td>Dallas</td>\n",
       "      <td>...</td>\n",
       "      <td>FUR-FU-10004952</td>\n",
       "      <td>Furniture</td>\n",
       "      <td>Furnishings</td>\n",
       "      <td>C-Line Cubicle Keepers Polyproplyene Holder w/...</td>\n",
       "      <td>131.376</td>\n",
       "      <td>6</td>\n",
       "      <td>0.6</td>\n",
       "      <td>-95.2476</td>\n",
       "      <td>2016-01-15</td>\n",
       "      <td>2016-10-15</td>\n",
       "    </tr>\n",
       "    <tr>\n",
       "      <th>4</th>\n",
       "      <td>6879</td>\n",
       "      <td>US-2015-123918</td>\n",
       "      <td>2015-10-15</td>\n",
       "      <td>2015-10-15</td>\n",
       "      <td>Same Day</td>\n",
       "      <td>CG-12520</td>\n",
       "      <td>Claire Gute</td>\n",
       "      <td>Consumer</td>\n",
       "      <td>United States</td>\n",
       "      <td>Dallas</td>\n",
       "      <td>...</td>\n",
       "      <td>OFF-PA-10003001</td>\n",
       "      <td>Office Supplies</td>\n",
       "      <td>Paper</td>\n",
       "      <td>Xerox 1986</td>\n",
       "      <td>5.344</td>\n",
       "      <td>1</td>\n",
       "      <td>0.2</td>\n",
       "      <td>1.8704</td>\n",
       "      <td>2016-01-15</td>\n",
       "      <td>2016-10-15</td>\n",
       "    </tr>\n",
       "  </tbody>\n",
       "</table>\n",
       "<p>5 rows × 23 columns</p>\n",
       "</div>"
      ],
      "text/plain": [
       "   Row ID        Order ID Order Date  Ship Date     Ship Mode Customer ID  \\\n",
       "0       1  CA-2016-152156 2016-11-08 2016-11-11  Second Class    CG-12520   \n",
       "1       2  CA-2016-152156 2016-11-08 2016-11-11  Second Class    CG-12520   \n",
       "2    5492  CA-2017-164098 2017-01-26 2017-01-27   First Class    CG-12520   \n",
       "3    6878  US-2015-123918 2015-10-15 2015-10-15      Same Day    CG-12520   \n",
       "4    6879  US-2015-123918 2015-10-15 2015-10-15      Same Day    CG-12520   \n",
       "\n",
       "  Customer Name   Segment        Country       City  ...       Product ID  \\\n",
       "0   Claire Gute  Consumer  United States  Henderson  ...  FUR-BO-10001798   \n",
       "1   Claire Gute  Consumer  United States  Henderson  ...  FUR-CH-10000454   \n",
       "2   Claire Gute  Consumer  United States    Houston  ...  OFF-ST-10000615   \n",
       "3   Claire Gute  Consumer  United States     Dallas  ...  FUR-FU-10004952   \n",
       "4   Claire Gute  Consumer  United States     Dallas  ...  OFF-PA-10003001   \n",
       "\n",
       "          Category Sub-Category  \\\n",
       "0        Furniture    Bookcases   \n",
       "1        Furniture       Chairs   \n",
       "2  Office Supplies      Storage   \n",
       "3        Furniture  Furnishings   \n",
       "4  Office Supplies        Paper   \n",
       "\n",
       "                                        Product Name    Sales Quantity  \\\n",
       "0                  Bush Somerset Collection Bookcase  261.960        2   \n",
       "1  Hon Deluxe Fabric Upholstered Stacking Chairs,...  731.940        3   \n",
       "2  SimpliFile Personal File, Black Granite, 15w x...   18.160        2   \n",
       "3  C-Line Cubicle Keepers Polyproplyene Holder w/...  131.376        6   \n",
       "4                                         Xerox 1986    5.344        1   \n",
       "\n",
       "  Discount    Profit  3M After Purchase 1  1YR After Purchase 1  \n",
       "0      0.0   41.9136           2016-01-15            2016-10-15  \n",
       "1      0.0  219.5820           2016-01-15            2016-10-15  \n",
       "2      0.2    1.8160           2016-01-15            2016-10-15  \n",
       "3      0.6  -95.2476           2016-01-15            2016-10-15  \n",
       "4      0.2    1.8704           2016-01-15            2016-10-15  \n",
       "\n",
       "[5 rows x 23 columns]"
      ]
     },
     "execution_count": 20,
     "metadata": {},
     "output_type": "execute_result"
    }
   ],
   "source": [
    "ss = ss.merge(clv['1YR After Purchase 1'].to_frame(), on='Customer Name', how='left')\n",
    "ss.head()"
   ]
  },
  {
   "cell_type": "markdown",
   "metadata": {},
   "source": [
    "**Column 9:** Make a column that determines whether or not a customer made a second purchase within 90 days of their first purchase."
   ]
  },
  {
   "cell_type": "code",
   "execution_count": 21,
   "metadata": {},
   "outputs": [],
   "source": [
    "first_ord = ss.groupby('Customer Name')['Order Date'].min()\n",
    "first_ord = first_ord.to_frame().rename({'Order Date': 'First Order'}, axis=1)\n",
    "ss = ss.merge(first_ord, on='Customer Name', how='left')"
   ]
  },
  {
   "cell_type": "code",
   "execution_count": 22,
   "metadata": {},
   "outputs": [
    {
     "data": {
      "text/html": [
       "<div>\n",
       "<style scoped>\n",
       "    .dataframe tbody tr th:only-of-type {\n",
       "        vertical-align: middle;\n",
       "    }\n",
       "\n",
       "    .dataframe tbody tr th {\n",
       "        vertical-align: top;\n",
       "    }\n",
       "\n",
       "    .dataframe thead th {\n",
       "        text-align: right;\n",
       "    }\n",
       "</style>\n",
       "<table border=\"1\" class=\"dataframe\">\n",
       "  <thead>\n",
       "    <tr style=\"text-align: right;\">\n",
       "      <th></th>\n",
       "      <th>Sales</th>\n",
       "      <th>Customer Duration</th>\n",
       "      <th>Total Purchases</th>\n",
       "      <th>Cohort</th>\n",
       "      <th>Repeat Customer</th>\n",
       "      <th>Segment</th>\n",
       "      <th>3M After Purchase 1</th>\n",
       "      <th>1YR After Purchase 1</th>\n",
       "      <th>3M Repeat</th>\n",
       "    </tr>\n",
       "    <tr>\n",
       "      <th>Customer Name</th>\n",
       "      <th></th>\n",
       "      <th></th>\n",
       "      <th></th>\n",
       "      <th></th>\n",
       "      <th></th>\n",
       "      <th></th>\n",
       "      <th></th>\n",
       "      <th></th>\n",
       "      <th></th>\n",
       "    </tr>\n",
       "  </thead>\n",
       "  <tbody>\n",
       "    <tr>\n",
       "      <th>Aaron Bergman</th>\n",
       "      <td>886.156</td>\n",
       "      <td>2094 days 15:20:59</td>\n",
       "      <td>3</td>\n",
       "      <td>1H-14</td>\n",
       "      <td>True</td>\n",
       "      <td>Consumer</td>\n",
       "      <td>2014-05-18</td>\n",
       "      <td>2015-02-18</td>\n",
       "      <td>True</td>\n",
       "    </tr>\n",
       "    <tr>\n",
       "      <th>Aaron Hawkins</th>\n",
       "      <td>1744.700</td>\n",
       "      <td>2031 days 15:20:59</td>\n",
       "      <td>7</td>\n",
       "      <td>1H-14</td>\n",
       "      <td>True</td>\n",
       "      <td>Corporate</td>\n",
       "      <td>2014-07-22</td>\n",
       "      <td>2015-04-22</td>\n",
       "      <td>True</td>\n",
       "    </tr>\n",
       "    <tr>\n",
       "      <th>Aaron Smayling</th>\n",
       "      <td>3050.692</td>\n",
       "      <td>1935 days 15:20:59</td>\n",
       "      <td>7</td>\n",
       "      <td>2H-14</td>\n",
       "      <td>True</td>\n",
       "      <td>Corporate</td>\n",
       "      <td>2014-10-27</td>\n",
       "      <td>2015-07-27</td>\n",
       "      <td>False</td>\n",
       "    </tr>\n",
       "    <tr>\n",
       "      <th>Adam Bellavance</th>\n",
       "      <td>7755.620</td>\n",
       "      <td>1517 days 15:20:59</td>\n",
       "      <td>8</td>\n",
       "      <td>2H-15</td>\n",
       "      <td>True</td>\n",
       "      <td>Home Office</td>\n",
       "      <td>2015-12-18</td>\n",
       "      <td>2016-09-18</td>\n",
       "      <td>False</td>\n",
       "    </tr>\n",
       "    <tr>\n",
       "      <th>Adam Hart</th>\n",
       "      <td>3250.337</td>\n",
       "      <td>1823 days 15:20:59</td>\n",
       "      <td>10</td>\n",
       "      <td>2H-14</td>\n",
       "      <td>True</td>\n",
       "      <td>Corporate</td>\n",
       "      <td>2015-02-16</td>\n",
       "      <td>2015-11-16</td>\n",
       "      <td>False</td>\n",
       "    </tr>\n",
       "  </tbody>\n",
       "</table>\n",
       "</div>"
      ],
      "text/plain": [
       "                    Sales  Customer Duration  Total Purchases Cohort  \\\n",
       "Customer Name                                                          \n",
       "Aaron Bergman     886.156 2094 days 15:20:59                3  1H-14   \n",
       "Aaron Hawkins    1744.700 2031 days 15:20:59                7  1H-14   \n",
       "Aaron Smayling   3050.692 1935 days 15:20:59                7  2H-14   \n",
       "Adam Bellavance  7755.620 1517 days 15:20:59                8  2H-15   \n",
       "Adam Hart        3250.337 1823 days 15:20:59               10  2H-14   \n",
       "\n",
       "                 Repeat Customer      Segment 3M After Purchase 1  \\\n",
       "Customer Name                                                       \n",
       "Aaron Bergman               True     Consumer          2014-05-18   \n",
       "Aaron Hawkins               True    Corporate          2014-07-22   \n",
       "Aaron Smayling              True    Corporate          2014-10-27   \n",
       "Adam Bellavance             True  Home Office          2015-12-18   \n",
       "Adam Hart                   True    Corporate          2015-02-16   \n",
       "\n",
       "                1YR After Purchase 1  3M Repeat  \n",
       "Customer Name                                    \n",
       "Aaron Bergman             2015-02-18       True  \n",
       "Aaron Hawkins             2015-04-22       True  \n",
       "Aaron Smayling            2015-07-27      False  \n",
       "Adam Bellavance           2016-09-18      False  \n",
       "Adam Hart                 2015-11-16      False  "
      ]
     },
     "execution_count": 22,
     "metadata": {},
     "output_type": "execute_result"
    }
   ],
   "source": [
    "ss['3M Repeat'] = ss['Order Date'].between(ss['First Order'], ss['3M After Purchase 1'], inclusive=False)\n",
    "tm_repeats = ss.groupby('Customer Name')['3M Repeat'].any()\n",
    "clv['3M Repeat'] = tm_repeats\n",
    "clv.head()"
   ]
  },
  {
   "cell_type": "markdown",
   "metadata": {},
   "source": [
    "**Column 10:** Make a column that counts how many items each customer made with in their first year of purchase."
   ]
  },
  {
   "cell_type": "code",
   "execution_count": 23,
   "metadata": {},
   "outputs": [],
   "source": [
    "ss['1YR Purchases'] = ss['Order Date'].between(ss['First Order'], ss['1YR After Purchase 1'])\n",
    "y_1_purchases = (ss.groupby(['Customer Name', 'Order ID'])['1YR Purchases'].sum() > 0).sum(level='Customer Name').to_frame()"
   ]
  },
  {
   "cell_type": "code",
   "execution_count": 24,
   "metadata": {},
   "outputs": [
    {
     "data": {
      "text/html": [
       "<div>\n",
       "<style scoped>\n",
       "    .dataframe tbody tr th:only-of-type {\n",
       "        vertical-align: middle;\n",
       "    }\n",
       "\n",
       "    .dataframe tbody tr th {\n",
       "        vertical-align: top;\n",
       "    }\n",
       "\n",
       "    .dataframe thead th {\n",
       "        text-align: right;\n",
       "    }\n",
       "</style>\n",
       "<table border=\"1\" class=\"dataframe\">\n",
       "  <thead>\n",
       "    <tr style=\"text-align: right;\">\n",
       "      <th></th>\n",
       "      <th>Sales</th>\n",
       "      <th>Customer Duration</th>\n",
       "      <th>Total Purchases</th>\n",
       "      <th>Cohort</th>\n",
       "      <th>Repeat Customer</th>\n",
       "      <th>Segment</th>\n",
       "      <th>3M After Purchase 1</th>\n",
       "      <th>1YR After Purchase 1</th>\n",
       "      <th>3M Repeat</th>\n",
       "      <th>1YR Purchases</th>\n",
       "    </tr>\n",
       "    <tr>\n",
       "      <th>Customer Name</th>\n",
       "      <th></th>\n",
       "      <th></th>\n",
       "      <th></th>\n",
       "      <th></th>\n",
       "      <th></th>\n",
       "      <th></th>\n",
       "      <th></th>\n",
       "      <th></th>\n",
       "      <th></th>\n",
       "      <th></th>\n",
       "    </tr>\n",
       "  </thead>\n",
       "  <tbody>\n",
       "    <tr>\n",
       "      <th>Aaron Bergman</th>\n",
       "      <td>886.156</td>\n",
       "      <td>2094 days 15:20:59</td>\n",
       "      <td>3</td>\n",
       "      <td>1H-14</td>\n",
       "      <td>True</td>\n",
       "      <td>Consumer</td>\n",
       "      <td>2014-05-18</td>\n",
       "      <td>2015-02-18</td>\n",
       "      <td>True</td>\n",
       "      <td>2.0</td>\n",
       "    </tr>\n",
       "    <tr>\n",
       "      <th>Aaron Hawkins</th>\n",
       "      <td>1744.700</td>\n",
       "      <td>2031 days 15:20:59</td>\n",
       "      <td>7</td>\n",
       "      <td>1H-14</td>\n",
       "      <td>True</td>\n",
       "      <td>Corporate</td>\n",
       "      <td>2014-07-22</td>\n",
       "      <td>2015-04-22</td>\n",
       "      <td>True</td>\n",
       "      <td>4.0</td>\n",
       "    </tr>\n",
       "    <tr>\n",
       "      <th>Aaron Smayling</th>\n",
       "      <td>3050.692</td>\n",
       "      <td>1935 days 15:20:59</td>\n",
       "      <td>7</td>\n",
       "      <td>2H-14</td>\n",
       "      <td>True</td>\n",
       "      <td>Corporate</td>\n",
       "      <td>2014-10-27</td>\n",
       "      <td>2015-07-27</td>\n",
       "      <td>False</td>\n",
       "      <td>1.0</td>\n",
       "    </tr>\n",
       "    <tr>\n",
       "      <th>Adam Bellavance</th>\n",
       "      <td>7755.620</td>\n",
       "      <td>1517 days 15:20:59</td>\n",
       "      <td>8</td>\n",
       "      <td>2H-15</td>\n",
       "      <td>True</td>\n",
       "      <td>Home Office</td>\n",
       "      <td>2015-12-18</td>\n",
       "      <td>2016-09-18</td>\n",
       "      <td>False</td>\n",
       "      <td>4.0</td>\n",
       "    </tr>\n",
       "    <tr>\n",
       "      <th>Adam Hart</th>\n",
       "      <td>3250.337</td>\n",
       "      <td>1823 days 15:20:59</td>\n",
       "      <td>10</td>\n",
       "      <td>2H-14</td>\n",
       "      <td>True</td>\n",
       "      <td>Corporate</td>\n",
       "      <td>2015-02-16</td>\n",
       "      <td>2015-11-16</td>\n",
       "      <td>False</td>\n",
       "      <td>1.0</td>\n",
       "    </tr>\n",
       "  </tbody>\n",
       "</table>\n",
       "</div>"
      ],
      "text/plain": [
       "                    Sales  Customer Duration  Total Purchases Cohort  \\\n",
       "Customer Name                                                          \n",
       "Aaron Bergman     886.156 2094 days 15:20:59                3  1H-14   \n",
       "Aaron Hawkins    1744.700 2031 days 15:20:59                7  1H-14   \n",
       "Aaron Smayling   3050.692 1935 days 15:20:59                7  2H-14   \n",
       "Adam Bellavance  7755.620 1517 days 15:20:59                8  2H-15   \n",
       "Adam Hart        3250.337 1823 days 15:20:59               10  2H-14   \n",
       "\n",
       "                 Repeat Customer      Segment 3M After Purchase 1  \\\n",
       "Customer Name                                                       \n",
       "Aaron Bergman               True     Consumer          2014-05-18   \n",
       "Aaron Hawkins               True    Corporate          2014-07-22   \n",
       "Aaron Smayling              True    Corporate          2014-10-27   \n",
       "Adam Bellavance             True  Home Office          2015-12-18   \n",
       "Adam Hart                   True    Corporate          2015-02-16   \n",
       "\n",
       "                1YR After Purchase 1  3M Repeat  1YR Purchases  \n",
       "Customer Name                                                   \n",
       "Aaron Bergman             2015-02-18       True            2.0  \n",
       "Aaron Hawkins             2015-04-22       True            4.0  \n",
       "Aaron Smayling            2015-07-27      False            1.0  \n",
       "Adam Bellavance           2016-09-18      False            4.0  \n",
       "Adam Hart                 2015-11-16      False            1.0  "
      ]
     },
     "execution_count": 24,
     "metadata": {},
     "output_type": "execute_result"
    }
   ],
   "source": [
    "clv = clv.merge(y_1_purchases, on='Customer Name')\n",
    "clv.head()"
   ]
  },
  {
   "cell_type": "markdown",
   "metadata": {},
   "source": [
    "**Column 11:** Make a column that sums up the total value of sales for each customer one year after they made their purchase."
   ]
  },
  {
   "cell_type": "code",
   "execution_count": 2,
   "metadata": {},
   "outputs": [
    {
     "ename": "NameError",
     "evalue": "name 'ss' is not defined",
     "output_type": "error",
     "traceback": [
      "\u001b[0;31m---------------------------------------------------------------------------\u001b[0m",
      "\u001b[0;31mNameError\u001b[0m                                 Traceback (most recent call last)",
      "\u001b[0;32m<ipython-input-2-b9e54bd20324>\u001b[0m in \u001b[0;36m<module>\u001b[0;34m\u001b[0m\n\u001b[0;32m----> 1\u001b[0;31m \u001b[0mfirst_year_sales\u001b[0m \u001b[0;34m=\u001b[0m \u001b[0mss\u001b[0m\u001b[0;34m[\u001b[0m\u001b[0mss\u001b[0m\u001b[0;34m.\u001b[0m\u001b[0mIn_1st_year\u001b[0m \u001b[0;34m==\u001b[0m \u001b[0;32mTrue\u001b[0m\u001b[0;34m]\u001b[0m\u001b[0;34m.\u001b[0m\u001b[0mgroupby\u001b[0m\u001b[0;34m(\u001b[0m\u001b[0;34m'Customer Name'\u001b[0m\u001b[0;34m)\u001b[0m\u001b[0;34m[\u001b[0m\u001b[0;34m'Sales'\u001b[0m\u001b[0;34m]\u001b[0m\u001b[0;34m.\u001b[0m\u001b[0msum\u001b[0m\u001b[0;34m(\u001b[0m\u001b[0;34m)\u001b[0m\u001b[0;34m.\u001b[0m\u001b[0mto_frame\u001b[0m\u001b[0;34m(\u001b[0m\u001b[0;34m)\u001b[0m\u001b[0;34m.\u001b[0m\u001b[0mrename\u001b[0m\u001b[0;34m(\u001b[0m\u001b[0;34m{\u001b[0m\u001b[0;34m'Sales'\u001b[0m\u001b[0;34m:\u001b[0m \u001b[0;34m'First Year Sales'\u001b[0m\u001b[0;34m}\u001b[0m\u001b[0;34m,\u001b[0m \u001b[0maxis\u001b[0m\u001b[0;34m=\u001b[0m\u001b[0;36m1\u001b[0m\u001b[0;34m)\u001b[0m\u001b[0;34m\u001b[0m\u001b[0;34m\u001b[0m\u001b[0m\n\u001b[0m",
      "\u001b[0;31mNameError\u001b[0m: name 'ss' is not defined"
     ]
    }
   ],
   "source": []
  },
  {
   "cell_type": "markdown",
   "metadata": {},
   "source": [
    "**Hint:** For some of these columns, you'll need to break them down into a few steps.  It's okay to make  helper columns on your original dataset that make it easier for you to calculate the final result."
   ]
  },
  {
   "cell_type": "markdown",
   "metadata": {},
   "source": [
    "### Questions:\n",
    "\n",
    "Now that you've made these columns, try and answer the following questions."
   ]
  },
  {
   "cell_type": "markdown",
   "metadata": {},
   "source": [
    "**What percentage of customers make a second purchase within 3 months after their first one?  How does this differ by customer segment?**"
   ]
  },
  {
   "cell_type": "code",
   "execution_count": 26,
   "metadata": {},
   "outputs": [
    {
     "data": {
      "text/plain": [
       "0.22950819672131148"
      ]
     },
     "execution_count": 26,
     "metadata": {},
     "output_type": "execute_result"
    }
   ],
   "source": [
    "\n",
    "clv['3M Repeat'].mean()"
   ]
  },
  {
   "cell_type": "code",
   "execution_count": 36,
   "metadata": {},
   "outputs": [
    {
     "data": {
      "text/plain": [
       "Segment\n",
       "Consumer       0.246944\n",
       "Corporate      0.207627\n",
       "Home Office    0.216216\n",
       "Name: 3M Repeat, dtype: float64"
      ]
     },
     "execution_count": 36,
     "metadata": {},
     "output_type": "execute_result"
    }
   ],
   "source": [
    "clv.groupby('Segment')['3M Repeat'].mean()"
   ]
  },
  {
   "cell_type": "markdown",
   "metadata": {},
   "source": [
    "**How Has the 3-Month Repurchasing Rate Been Changing Across Cohorts?**"
   ]
  },
  {
   "cell_type": "code",
   "execution_count": 37,
   "metadata": {},
   "outputs": [
    {
     "data": {
      "text/plain": [
       "Cohort\n",
       "1H-14    0.177936\n",
       "1H-15    0.176471\n",
       "1H-16    0.333333\n",
       "1H-17    0.200000\n",
       "2H-14    0.273885\n",
       "2H-15    0.264706\n",
       "2H-16    0.133333\n",
       "2H-17    0.166667\n",
       "Name: 3M Repeat, dtype: float64"
      ]
     },
     "execution_count": 37,
     "metadata": {},
     "output_type": "execute_result"
    }
   ],
   "source": [
    "clv.groupby('Cohort')['3M Repeat'].mean()"
   ]
  },
  {
   "cell_type": "code",
   "execution_count": 38,
   "metadata": {},
   "outputs": [
    {
     "data": {
      "image/png": "[encoded data removed]",
      "text/plain": [
       "<Figure size 576x576 with 1 Axes>"
      ]
     },
     "metadata": {
      "needs_background": "light"
     },
     "output_type": "display_data"
    }
   ],
   "source": [
    "%matplotlib inline\n",
    "cohorts = clv.groupby('Cohort')['3M Repeat'].mean().plot(figsize=(8,8), title='3 Month Conversion Rates by Cohort');"
   ]
  },
  {
   "cell_type": "markdown",
   "metadata": {},
   "source": [
    "**What impact does a second order within 3 months of 1st purchase have on lifetime customer value?  Does this effect hold true for each customer segment?**"
   ]
  },
  {
   "cell_type": "code",
   "execution_count": 39,
   "metadata": {},
   "outputs": [
    {
     "data": {
      "text/plain": [
       "3M Repeat\n",
       "False    2733.592157\n",
       "True     3444.923365\n",
       "Name: Sales, dtype: float64"
      ]
     },
     "execution_count": 39,
     "metadata": {},
     "output_type": "execute_result"
    }
   ],
   "source": [
    "# looks to have a pretty big dffect\n",
    "clv.groupby('3M Repeat')['Sales'].mean()"
   ]
  },
  {
   "cell_type": "code",
   "execution_count": 40,
   "metadata": {},
   "outputs": [
    {
     "data": {
      "text/plain": [
       "Segment      3M Repeat\n",
       "Consumer     False        2618.689291\n",
       "             True         3513.317260\n",
       "Corporate    False        2881.440142\n",
       "             True         3414.633882\n",
       "Home Office  False        2800.337927\n",
       "             True         3275.435906\n",
       "Name: Sales, dtype: float64"
      ]
     },
     "execution_count": 40,
     "metadata": {},
     "output_type": "execute_result"
    }
   ],
   "source": [
    "# and to break it down by segment\n",
    "clv.groupby(['Segment','3M Repeat'])['Sales'].mean()"
   ]
  },
  {
   "cell_type": "markdown",
   "metadata": {},
   "source": [
    "**What's the average expected sales value for a customer one year after their first purchase? How has this changed across cohorts?**"
   ]
  },
  {
   "cell_type": "code",
   "execution_count": null,
   "metadata": {},
   "outputs": [],
   "source": []
  },
  {
   "cell_type": "code",
   "execution_count": null,
   "metadata": {},
   "outputs": [],
   "source": []
  },
  {
   "cell_type": "markdown",
   "metadata": {},
   "source": [
    "**How much does lifetime customer value differ across the different customer segments?**"
   ]
  },
  {
   "cell_type": "code",
   "execution_count": 35,
   "metadata": {},
   "outputs": [
    {
     "data": {
      "text/plain": [
       "Segment\n",
       "Consumer       2839.612090\n",
       "Corporate      2992.145622\n",
       "Home Office    2903.061814\n",
       "Name: Sales, dtype: float64"
      ]
     },
     "execution_count": 35,
     "metadata": {},
     "output_type": "execute_result"
    }
   ],
   "source": [
    "clv.groupby('Segment')['Sales'].mean()"
   ]
  },
  {
   "cell_type": "code",
   "execution_count": null,
   "metadata": {},
   "outputs": [],
   "source": []
  }
 ],
 "metadata": {
  "kernelspec": {
   "display_name": "Python 3",
   "language": "python",
   "name": "python3"
  },
  "language_info": {
   "codemirror_mode": {
    "name": "ipython",
    "version": 3
   },
   "file_extension": ".py",
   "mimetype": "text/x-python",
   "name": "python",
   "nbconvert_exporter": "python",
   "pygments_lexer": "ipython3",
   "version": "3.7.3"
  }
 },
 "nbformat": 4,
 "nbformat_minor": 2
}
