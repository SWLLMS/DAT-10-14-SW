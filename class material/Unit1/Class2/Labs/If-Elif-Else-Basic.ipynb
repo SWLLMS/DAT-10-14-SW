{
 "cells": [
  {
   "cell_type": "markdown",
   "metadata": {},
   "source": [
    "## If-Elif-Else:  Basic\n",
    "\n",
    "**Important**:  This notebook is designed for people who are not confident they have the basic python syntax down yet.  It's meant to give students a gentle, piecemeal approach towards getting themselves up and running.\n",
    "\n",
    "If you are already comfortable with this material, it's best to use the other notebook provided, which uses more varied prompts."
   ]
  },
  {
   "cell_type": "markdown",
   "metadata": {},
   "source": [
    "**Step 1:**  Create an if-statement that evaluates to True and prints one line as a confirmation.  "
   ]
  },
  {
   "cell_type": "code",
   "execution_count": 6,
   "metadata": {},
   "outputs": [
    {
     "name": "stdout",
     "output_type": "stream",
     "text": [
      "True\n"
     ]
    }
   ],
   "source": [
    "# your code here\n",
    "if 10 == 10:\n",
    "    print(\"True\")"
   ]
  },
  {
   "cell_type": "markdown",
   "metadata": {},
   "source": [
    "**Step 2:**  \n",
    " - Make it evaluate to False, just to make sure it works\n",
    " - Add additional lines of output if something evaluates to True"
   ]
  },
  {
   "cell_type": "code",
   "execution_count": 9,
   "metadata": {},
   "outputs": [
    {
     "name": "stdout",
     "output_type": "stream",
     "text": [
      "True\n",
      "Good Job! Keep going\n"
     ]
    }
   ],
   "source": [
    "# your code here\n",
    "if 10 == 10:\n",
    "    print(\"True\")\n",
    "    print(\"Good Job! Keep going\")"
   ]
  },
  {
   "cell_type": "markdown",
   "metadata": {},
   "source": [
    "**Step 3:** Add an 'else' statement to your code, and check to make sure it evaluates correctly."
   ]
  },
  {
   "cell_type": "code",
   "execution_count": 10,
   "metadata": {},
   "outputs": [
    {
     "name": "stdout",
     "output_type": "stream",
     "text": [
      "False. Please try again.\n"
     ]
    }
   ],
   "source": [
    "# your code here\n",
    "if 10 == 15:\n",
    "    print(\"True\")\n",
    "    print(\"Good Job! Keep going\")\n",
    "else:\n",
    "    print(\"False. Please try again.\")"
   ]
  },
  {
   "cell_type": "markdown",
   "metadata": {},
   "source": [
    "**Step 4:**  Add an `elif` block inbetween the `if/else` and test the following:\n",
    "\n",
    " - The statement evaluates the way you would expect if only the `if` statement was True\n",
    " - The statement evaluates the way you would expect if only the `elif` statement was True\n",
    " - Check to see what happens if **both** the `if` and `elif` statements are True."
   ]
  },
  {
   "cell_type": "code",
   "execution_count": 16,
   "metadata": {},
   "outputs": [
    {
     "name": "stdout",
     "output_type": "stream",
     "text": [
      "False. Please try again.\n"
     ]
    }
   ],
   "source": [
    "# your code here\n",
    "if 10 == 15:\n",
    "    print(\"True\")\n",
    "    print(\"Good Job!\")\n",
    "elif 10 >= 15:\n",
    "    print(\"Close, subtract 5.\")\n",
    "else:\n",
    "    print(\"False. Please try again.\")"
   ]
  },
  {
   "cell_type": "markdown",
   "metadata": {},
   "source": [
    "**Step 5:** Add a nested `if` statement inside your previous code block.  \n",
    "\n",
    "For example, setup it up so that it reads something like this:\n",
    "\n",
    "`if True:\n",
    "    if True:\n",
    "        then do this\n",
    "    else:\n",
    "        then do that\n",
    " elif ....`\n",
    " \n",
    " And so on."
   ]
  },
  {
   "cell_type": "code",
   "execution_count": 31,
   "metadata": {},
   "outputs": [
    {
     "name": "stdout",
     "output_type": "stream",
     "text": [
      "x is less than 20\n"
     ]
    }
   ],
   "source": [
    "# your code here\n",
    "x = 100\n",
    "\n",
    "if x == 20:\n",
    "   print(\"x is less than 20\")\n",
    "   if x = 15:\n",
    "      print(\"15 is false\")\n",
    "   elif x == 10:\n",
    "      print(\"10 is correct\")\n",
    "   elif x <= 30:\n",
    "      print(\"30 is false\")\n",
    "else:\n",
    "   print(x)"
   ]
  },
  {
   "cell_type": "code",
   "execution_count": null,
   "metadata": {},
   "outputs": [],
   "source": []
  }
 ],
 "metadata": {
  "kernelspec": {
   "display_name": "Python 3",
   "language": "python",
   "name": "python3"
  },
  "language_info": {
   "codemirror_mode": {
    "name": "ipython",
    "version": 3
   },
   "file_extension": ".py",
   "mimetype": "text/x-python",
   "name": "python",
   "nbconvert_exporter": "python",
   "pygments_lexer": "ipython3",
   "version": "3.7.3"
  }
 },
 "nbformat": 4,
 "nbformat_minor": 2
}
