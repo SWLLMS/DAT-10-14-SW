{
 "cells": [
  {
   "cell_type": "markdown",
   "metadata": {},
   "source": [
    "### Data Types, Printing, Methods"
   ]
  },
  {
   "cell_type": "markdown",
   "metadata": {},
   "source": [
    "### Part I:  Very Basic Practice"
   ]
  },
  {
   "cell_type": "markdown",
   "metadata": {},
   "source": [
    "#### Variable Assignments.\n",
    "\n",
    "Variable assignments in Python always have the following structure:\n",
    "\n",
    "variable_name = variable_value\n",
    "\n",
    "Variable names can be anything you want, but have to follow the following rules:\n",
    "\n",
    " - they can't begin with numbers or special characters\n",
    " - a multi-word variable name must be connected with hyphens or underscores (underscores are preferred)\n",
    " - you shouldn't use a variable name that already represents pre-existing data within Python\n",
    "  - ie, since print() is a function, don't make a variable called 'print'\n",
    "  \n",
    "**Some basic examples:**"
   ]
  },
  {
   "cell_type": "code",
   "execution_count": null,
   "metadata": {},
   "outputs": [],
   "source": [
    "x = 39\n",
    "y = 'hello!'\n",
    "z = 39.4875"
   ]
  },
  {
   "cell_type": "markdown",
   "metadata": {},
   "source": [
    "**Cell 1 Instructions**:  Assign three values to variables, and print each of them separately, and then in one single statement.  Verify their data types by passing them into the type() function"
   ]
  },
  {
   "cell_type": "code",
   "execution_count": 2,
   "metadata": {},
   "outputs": [
    {
     "name": "stdout",
     "output_type": "stream",
     "text": [
      "42\n",
      "10.5\n",
      "the ultimate answer\n",
      "42, 10.5, the ultimate answer\n"
     ]
    }
   ],
   "source": [
    "### Put In Your Code Here ###\n",
    "x = 42\n",
    "y = 10.5\n",
    "z = 'the ultimate answer'\n",
    "\n",
    "print(x)\n",
    "print(y)\n",
    "print(z)\n",
    "\n",
    "print(f\"{x}, {y}, {z}\")\n"
   ]
  },
  {
   "cell_type": "markdown",
   "metadata": {},
   "source": [
    "You can insert variables into print statements rather easily using the `format` function, or `f` for short.\n",
    "\n",
    "For example:"
   ]
  },
  {
   "cell_type": "code",
   "execution_count": null,
   "metadata": {},
   "outputs": [],
   "source": [
    "print(f\"the value of x is {x}, while the value of y is {y}, and finally z is {z}\")"
   ]
  },
  {
   "cell_type": "markdown",
   "metadata": {},
   "source": [
    "**Your Turn:**  Create a print statement that inserts a few variables into a string."
   ]
  },
  {
   "cell_type": "code",
   "execution_count": 3,
   "metadata": {},
   "outputs": [
    {
     "name": "stdout",
     "output_type": "stream",
     "text": [
      "The answer to the ulitmate question is 42, and it took 10.5 years to find it, and still dont understand the the ultimate answer.\n"
     ]
    }
   ],
   "source": [
    "### Your Code Here\n",
    "\n",
    "print(f\"The answer to the ulitmate question is {x}, and it took {y} years to find it, and still dont understand the {z}.\")"
   ]
  },
  {
   "cell_type": "markdown",
   "metadata": {},
   "source": [
    "You can also pass in numbers that specify the **index** position of the variable that you want to pass in, like this:  "
   ]
  },
  {
   "cell_type": "code",
   "execution_count": null,
   "metadata": {},
   "outputs": [],
   "source": [
    "'The first variable: {0}, the second variable: {1}'.format('My first variable', 'My second variable')"
   ]
  },
  {
   "cell_type": "markdown",
   "metadata": {},
   "source": [
    "**Your Turn**:  Try using the index format to create a string that inserts variables in the same manner as above."
   ]
  },
  {
   "cell_type": "code",
   "execution_count": 10,
   "metadata": {},
   "outputs": [
    {
     "name": "stdout",
     "output_type": "stream",
     "text": [
      "The first variable: Year 1, the second variable: 24\n"
     ]
    }
   ],
   "source": [
    "### Your Code Here\n",
    "print('The first variable: {0}, the second variable: {1}'.format('Year 1', '24'))"
   ]
  },
  {
   "cell_type": "markdown",
   "metadata": {},
   "source": [
    "### Data Types: A Brief Introduction\n",
    "\n",
    "Python (and most programming languages) have about a dozen or so different data types that are used for specific types of tasks within the language itself.  Here's a short introduction to the major ones you'll be using frequently:\n",
    "\n",
    " - **integers:**  whole numbers\n",
    " - **floats:** numbers with decimals after them\n",
    " - **strings:**  text.  Strings have to be enclosed within quotes in order to be interpreted as text.\n",
    " - **lists:**  containers that store multiple values according to a specific order.  Are denoted by brackets.  ie, [1, 2, 6, True, False].  Most data is stored in lists.\n",
    " - **dictionaries:**  store items as key/value pairs.  Have no concept of order.  Are denoted by braces.  ie, {'key1': 'value1', 'key2': 'value2'}  Most information is *passed around* as a dictionary.  Commonly used in API's.\n",
    " - **functions:**  pre-defined sets of instructions that you can re-use on the fly.  Are denoted by the word *def*.  ie, def my_function(arg1, arg2): return some_value\n",
    " \n",
    "**Quick Examples of Each:**"
   ]
  },
  {
   "cell_type": "code",
   "execution_count": 12,
   "metadata": {},
   "outputs": [],
   "source": [
    "the_int = 45\n",
    "the_float = 37.5\n",
    "the_string = 'hello!'\n",
    "the_list = [1, 2, True, False, 'a string', 'something else']\n",
    "the_dictionary = {'name': 'Jonathan', 'age': 39}"
   ]
  },
  {
   "cell_type": "markdown",
   "metadata": {},
   "source": [
    "### Functions & Data Type Methods"
   ]
  },
  {
   "cell_type": "markdown",
   "metadata": {},
   "source": [
    "Functions are sets of instructions that are pre-defined and can be accessed within the Python interpreter without any additional formatting.\n",
    "\n",
    "For example, `print()` is a function.\n",
    "\n",
    "**Methods** are basically functions as well, but *functions that can only be accessed within a certain datatype*."
   ]
  },
  {
   "cell_type": "markdown",
   "metadata": {},
   "source": [
    "**For Example:**"
   ]
  },
  {
   "cell_type": "code",
   "execution_count": 11,
   "metadata": {},
   "outputs": [
    {
     "name": "stdout",
     "output_type": "stream",
     "text": [
      "Hello\n"
     ]
    },
    {
     "data": {
      "text/plain": [
       "'A PIECE OF TEXT'"
      ]
     },
     "execution_count": 11,
     "metadata": {},
     "output_type": "execute_result"
    }
   ],
   "source": [
    "# here we call the print() function\n",
    "print(\"Hello\")\n",
    "\n",
    "# here we'll assign a value to a string\n",
    "the_string = 'a piece of text'\n",
    "# and now we'll call a string METHOD\n",
    "the_string.upper()"
   ]
  },
  {
   "cell_type": "markdown",
   "metadata": {},
   "source": [
    "Notice the `upper()` method didn't get called the same way the `print()` function did.  You have to attach it to the end of the variable.  Understanding the differences between the two is a common area of confusion that beginners typically struggle with.  \n",
    "Important points:\n",
    " - methods are specific to certain data types\n",
    " - some methods take arguments, while some don't.  (arguments are what you pass into the parentheses)\n",
    " - if you want, you can access the methods associated with a variable by using the `dir()` function, which provides a handy reference for what methods are associated with what."
   ]
  },
  {
   "cell_type": "code",
   "execution_count": 13,
   "metadata": {},
   "outputs": [
    {
     "data": {
      "text/plain": [
       "['__add__',\n",
       " '__class__',\n",
       " '__contains__',\n",
       " '__delattr__',\n",
       " '__dir__',\n",
       " '__doc__',\n",
       " '__eq__',\n",
       " '__format__',\n",
       " '__ge__',\n",
       " '__getattribute__',\n",
       " '__getitem__',\n",
       " '__getnewargs__',\n",
       " '__gt__',\n",
       " '__hash__',\n",
       " '__init__',\n",
       " '__init_subclass__',\n",
       " '__iter__',\n",
       " '__le__',\n",
       " '__len__',\n",
       " '__lt__',\n",
       " '__mod__',\n",
       " '__mul__',\n",
       " '__ne__',\n",
       " '__new__',\n",
       " '__reduce__',\n",
       " '__reduce_ex__',\n",
       " '__repr__',\n",
       " '__rmod__',\n",
       " '__rmul__',\n",
       " '__setattr__',\n",
       " '__sizeof__',\n",
       " '__str__',\n",
       " '__subclasshook__',\n",
       " 'capitalize',\n",
       " 'casefold',\n",
       " 'center',\n",
       " 'count',\n",
       " 'encode',\n",
       " 'endswith',\n",
       " 'expandtabs',\n",
       " 'find',\n",
       " 'format',\n",
       " 'format_map',\n",
       " 'index',\n",
       " 'isalnum',\n",
       " 'isalpha',\n",
       " 'isascii',\n",
       " 'isdecimal',\n",
       " 'isdigit',\n",
       " 'isidentifier',\n",
       " 'islower',\n",
       " 'isnumeric',\n",
       " 'isprintable',\n",
       " 'isspace',\n",
       " 'istitle',\n",
       " 'isupper',\n",
       " 'join',\n",
       " 'ljust',\n",
       " 'lower',\n",
       " 'lstrip',\n",
       " 'maketrans',\n",
       " 'partition',\n",
       " 'replace',\n",
       " 'rfind',\n",
       " 'rindex',\n",
       " 'rjust',\n",
       " 'rpartition',\n",
       " 'rsplit',\n",
       " 'rstrip',\n",
       " 'split',\n",
       " 'splitlines',\n",
       " 'startswith',\n",
       " 'strip',\n",
       " 'swapcase',\n",
       " 'title',\n",
       " 'translate',\n",
       " 'upper',\n",
       " 'zfill']"
      ]
     },
     "execution_count": 13,
     "metadata": {},
     "output_type": "execute_result"
    }
   ],
   "source": [
    "# this will return the all the methods associated with a particular variable\n",
    "# since it's a string, this will be the list of all the string methods\n",
    "dir(the_string)"
   ]
  },
  {
   "cell_type": "markdown",
   "metadata": {},
   "source": [
    "For now, ignore all the values that begin with an underscore -- these are privately used by the Python interpreter, and are not meant to be used for regular scripting."
   ]
  },
  {
   "cell_type": "markdown",
   "metadata": {},
   "source": [
    "#### Your Turn:\n",
    "\n",
    "Find three different string methods, and look online to find out what they are and how they work, and see if you can get them to run."
   ]
  },
  {
   "cell_type": "code",
   "execution_count": 14,
   "metadata": {},
   "outputs": [
    {
     "data": {
      "text/plain": [
       "'The Hitch Hickers Guide To The Galaxy'"
      ]
     },
     "execution_count": 14,
     "metadata": {},
     "output_type": "execute_result"
    }
   ],
   "source": [
    "### Put In Your Code Here ###\n",
    "attempt_1 = 'the hitch hickers guide to the galaxy'\n",
    "attempt_1.title()"
   ]
  },
  {
   "cell_type": "code",
   "execution_count": 16,
   "metadata": {},
   "outputs": [
    {
     "data": {
      "text/plain": [
       "'I live in New York'"
      ]
     },
     "execution_count": 16,
     "metadata": {},
     "output_type": "execute_result"
    }
   ],
   "source": [
    "attempt_2 = 'I live in Los Angeles'\n",
    "attempt_2.replace('Los Angeles', 'New York')"
   ]
  },
  {
   "cell_type": "code",
   "execution_count": 17,
   "metadata": {},
   "outputs": [
    {
     "data": {
      "text/plain": [
       "'hello all caps is yelling.'"
      ]
     },
     "execution_count": 17,
     "metadata": {},
     "output_type": "execute_result"
    }
   ],
   "source": [
    "attempt_3 = 'HELLO ALL CAPS IS YELLING.'\n",
    "attempt_3.lower()"
   ]
  },
  {
   "cell_type": "code",
   "execution_count": null,
   "metadata": {},
   "outputs": [],
   "source": []
  }
 ],
 "metadata": {
  "kernelspec": {
   "display_name": "Python 3",
   "language": "python",
   "name": "python3"
  },
  "language_info": {
   "codemirror_mode": {
    "name": "ipython",
    "version": 3
   },
   "file_extension": ".py",
   "mimetype": "text/x-python",
   "name": "python",
   "nbconvert_exporter": "python",
   "pygments_lexer": "ipython3",
   "version": "3.7.3"
  }
 },
 "nbformat": 4,
 "nbformat_minor": 2
}
