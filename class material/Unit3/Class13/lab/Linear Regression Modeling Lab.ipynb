{
 "cells": [
  {
   "cell_type": "markdown",
   "metadata": {},
   "source": [
    "### Linear Regression Modeling Lab\n",
    "\n",
    "This lab will walk you through the basics of building a linear regression model out of a training and test set using a variety of techniques, including:\n",
    "\n",
    " - estimating distributional fit\n",
    " - onehot and target encoding\n",
    " - measuring progress with cross validation scores\n",
    " - creating a custom loss function\n",
    " - properly using inferences from the training set to transform the test set\n",
    " \n",
    "**Some of these columns might have missing values.  Decide on the best approach for filling them in based on what we did from last class.**"
   ]
  },
  {
   "cell_type": "markdown",
   "metadata": {},
   "source": [
    "#### Step 1).  Upload the training and test set from the `\\movies` folder inside the `\\Data` folder"
   ]
  },
  {
   "cell_type": "code",
   "execution_count": 2,
   "metadata": {},
   "outputs": [],
   "source": [
    "import numpy as np\n",
    "import pandas as pd\n",
    "import seaborn as sns\n",
    "import matplotlib.pyplot as plt\n",
    "\n",
    "from sklearn.linear_model import LinearRegression\n",
    "from sklearn.model_selection import cross_val_score\n",
    "from sklearn.preprocessing import StandardScaler\n",
    "from scipy.stats import probplot"
   ]
  },
  {
   "cell_type": "code",
   "execution_count": 3,
   "metadata": {},
   "outputs": [],
   "source": [
    "train = pd.read_csv('/Users/swllms/DAT-10-14-SW/class material/Unit3/Data/movies/train 2.csv', parse_dates=['release_date'])\n",
    "test  = pd.read_csv('/Users/swllms/DAT-10-14-SW/class material/Unit3/Data/movies/test.csv', parse_dates=['release_date'])"
   ]
  },
  {
   "cell_type": "code",
   "execution_count": 4,
   "metadata": {},
   "outputs": [],
   "source": [
    "train.drop('id', axis=1, inplace=True)\n",
    "test.drop('id', axis=1, inplace=True)"
   ]
  },
  {
   "cell_type": "code",
   "execution_count": 6,
   "metadata": {},
   "outputs": [
    {
     "data": {
      "text/html": [
       "<div>\n",
       "<style scoped>\n",
       "    .dataframe tbody tr th:only-of-type {\n",
       "        vertical-align: middle;\n",
       "    }\n",
       "\n",
       "    .dataframe tbody tr th {\n",
       "        vertical-align: top;\n",
       "    }\n",
       "\n",
       "    .dataframe thead th {\n",
       "        text-align: right;\n",
       "    }\n",
       "</style>\n",
       "<table border=\"1\" class=\"dataframe\">\n",
       "  <thead>\n",
       "    <tr style=\"text-align: right;\">\n",
       "      <th></th>\n",
       "      <th>popularity</th>\n",
       "      <th>budget</th>\n",
       "      <th>original_title</th>\n",
       "      <th>cast</th>\n",
       "      <th>homepage</th>\n",
       "      <th>director</th>\n",
       "      <th>tagline</th>\n",
       "      <th>keywords</th>\n",
       "      <th>overview</th>\n",
       "      <th>runtime</th>\n",
       "      <th>genres</th>\n",
       "      <th>production_companies</th>\n",
       "      <th>release_date</th>\n",
       "      <th>vote_count</th>\n",
       "      <th>vote_average</th>\n",
       "      <th>release_year</th>\n",
       "      <th>budget_adj</th>\n",
       "      <th>revenue</th>\n",
       "    </tr>\n",
       "  </thead>\n",
       "  <tbody>\n",
       "    <tr>\n",
       "      <th>0</th>\n",
       "      <td>0.421043</td>\n",
       "      <td>0</td>\n",
       "      <td>The Unforgiven</td>\n",
       "      <td>Burt Lancaster|Audrey Hepburn|Audie Murphy|Joh...</td>\n",
       "      <td>NaN</td>\n",
       "      <td>John Huston</td>\n",
       "      <td>A NEW TRIUMPH FROM ACADEMY AWARD WINNER JOHN H...</td>\n",
       "      <td>indian|texas|farm|siblings|saddle</td>\n",
       "      <td>The neighbors of a frontier family turn on the...</td>\n",
       "      <td>125</td>\n",
       "      <td>Action|Drama|Western</td>\n",
       "      <td>James Productions</td>\n",
       "      <td>1960-01-01</td>\n",
       "      <td>17</td>\n",
       "      <td>4.9</td>\n",
       "      <td>1960</td>\n",
       "      <td>0.0</td>\n",
       "      <td>0.0</td>\n",
       "    </tr>\n",
       "    <tr>\n",
       "      <th>1</th>\n",
       "      <td>0.333643</td>\n",
       "      <td>0</td>\n",
       "      <td>The Brides of Dracula</td>\n",
       "      <td>Peter Cushing|Martita Hunt|Yvonne Monlaur|Fred...</td>\n",
       "      <td>NaN</td>\n",
       "      <td>Terence Fisher</td>\n",
       "      <td>He Turned Innocent Beauty Into Unspeakable Hor...</td>\n",
       "      <td>dracula|hammer horror|van helsing</td>\n",
       "      <td>A young teacher on her way to a position in Tr...</td>\n",
       "      <td>85</td>\n",
       "      <td>Horror</td>\n",
       "      <td>Hammer Film Productions|Hotspur Film Productio...</td>\n",
       "      <td>1960-01-01</td>\n",
       "      <td>19</td>\n",
       "      <td>6.6</td>\n",
       "      <td>1960</td>\n",
       "      <td>0.0</td>\n",
       "      <td>0.0</td>\n",
       "    </tr>\n",
       "    <tr>\n",
       "      <th>2</th>\n",
       "      <td>0.194948</td>\n",
       "      <td>0</td>\n",
       "      <td>Sink the Bismarck!</td>\n",
       "      <td>Kenneth More|Dana Wynter|Carl MÃ¶hner|Laurence...</td>\n",
       "      <td>NaN</td>\n",
       "      <td>Lewis Gilbert</td>\n",
       "      <td>NaN</td>\n",
       "      <td>NaN</td>\n",
       "      <td>A true WW2 story: the British Navy must find a...</td>\n",
       "      <td>97</td>\n",
       "      <td>Action|Drama|Foreign|History|War</td>\n",
       "      <td>Twentieth Century Fox Film Corporation</td>\n",
       "      <td>1960-02-11</td>\n",
       "      <td>12</td>\n",
       "      <td>4.9</td>\n",
       "      <td>1960</td>\n",
       "      <td>0.0</td>\n",
       "      <td>0.0</td>\n",
       "    </tr>\n",
       "    <tr>\n",
       "      <th>3</th>\n",
       "      <td>0.136525</td>\n",
       "      <td>0</td>\n",
       "      <td>Carry On Constable</td>\n",
       "      <td>Kenneth Connor|Charles Hawtrey|Sid James|Kenne...</td>\n",
       "      <td>NaN</td>\n",
       "      <td>Gerald Thomas</td>\n",
       "      <td>Oh! What a Carry On When that Crazy Bunch Join...</td>\n",
       "      <td>carry on|police station</td>\n",
       "      <td>With a flu epidemic running rife, three new bu...</td>\n",
       "      <td>86</td>\n",
       "      <td>Comedy</td>\n",
       "      <td>Peter Rogers Productions</td>\n",
       "      <td>1960-02-22</td>\n",
       "      <td>10</td>\n",
       "      <td>6.0</td>\n",
       "      <td>1960</td>\n",
       "      <td>0.0</td>\n",
       "      <td>0.0</td>\n",
       "    </tr>\n",
       "    <tr>\n",
       "      <th>4</th>\n",
       "      <td>0.267118</td>\n",
       "      <td>0</td>\n",
       "      <td>Comanche Station</td>\n",
       "      <td>Randolph Scott|Nancy Gates|Skip Homeier|Dyke J...</td>\n",
       "      <td>NaN</td>\n",
       "      <td>Budd Boetticher</td>\n",
       "      <td>The One-Man War Against The Comancheros!</td>\n",
       "      <td>indian|comanche</td>\n",
       "      <td>A man saves a woman who had been kidnapped by ...</td>\n",
       "      <td>73</td>\n",
       "      <td>Action|Western</td>\n",
       "      <td>Columbia Pictures Corporation|Ranown Pictures ...</td>\n",
       "      <td>1960-03-01</td>\n",
       "      <td>12</td>\n",
       "      <td>6.5</td>\n",
       "      <td>1960</td>\n",
       "      <td>0.0</td>\n",
       "      <td>0.0</td>\n",
       "    </tr>\n",
       "  </tbody>\n",
       "</table>\n",
       "</div>"
      ],
      "text/plain": [
       "   popularity  budget         original_title  \\\n",
       "0    0.421043       0         The Unforgiven   \n",
       "1    0.333643       0  The Brides of Dracula   \n",
       "2    0.194948       0     Sink the Bismarck!   \n",
       "3    0.136525       0     Carry On Constable   \n",
       "4    0.267118       0       Comanche Station   \n",
       "\n",
       "                                                cast homepage  \\\n",
       "0  Burt Lancaster|Audrey Hepburn|Audie Murphy|Joh...      NaN   \n",
       "1  Peter Cushing|Martita Hunt|Yvonne Monlaur|Fred...      NaN   \n",
       "2  Kenneth More|Dana Wynter|Carl MÃ¶hner|Laurence...      NaN   \n",
       "3  Kenneth Connor|Charles Hawtrey|Sid James|Kenne...      NaN   \n",
       "4  Randolph Scott|Nancy Gates|Skip Homeier|Dyke J...      NaN   \n",
       "\n",
       "          director                                            tagline  \\\n",
       "0      John Huston  A NEW TRIUMPH FROM ACADEMY AWARD WINNER JOHN H...   \n",
       "1   Terence Fisher  He Turned Innocent Beauty Into Unspeakable Hor...   \n",
       "2    Lewis Gilbert                                                NaN   \n",
       "3    Gerald Thomas  Oh! What a Carry On When that Crazy Bunch Join...   \n",
       "4  Budd Boetticher           The One-Man War Against The Comancheros!   \n",
       "\n",
       "                            keywords  \\\n",
       "0  indian|texas|farm|siblings|saddle   \n",
       "1  dracula|hammer horror|van helsing   \n",
       "2                                NaN   \n",
       "3            carry on|police station   \n",
       "4                    indian|comanche   \n",
       "\n",
       "                                            overview  runtime  \\\n",
       "0  The neighbors of a frontier family turn on the...      125   \n",
       "1  A young teacher on her way to a position in Tr...       85   \n",
       "2  A true WW2 story: the British Navy must find a...       97   \n",
       "3  With a flu epidemic running rife, three new bu...       86   \n",
       "4  A man saves a woman who had been kidnapped by ...       73   \n",
       "\n",
       "                             genres  \\\n",
       "0              Action|Drama|Western   \n",
       "1                            Horror   \n",
       "2  Action|Drama|Foreign|History|War   \n",
       "3                            Comedy   \n",
       "4                    Action|Western   \n",
       "\n",
       "                                production_companies release_date  vote_count  \\\n",
       "0                                  James Productions   1960-01-01          17   \n",
       "1  Hammer Film Productions|Hotspur Film Productio...   1960-01-01          19   \n",
       "2             Twentieth Century Fox Film Corporation   1960-02-11          12   \n",
       "3                           Peter Rogers Productions   1960-02-22          10   \n",
       "4  Columbia Pictures Corporation|Ranown Pictures ...   1960-03-01          12   \n",
       "\n",
       "   vote_average  release_year  budget_adj  revenue  \n",
       "0           4.9          1960         0.0      0.0  \n",
       "1           6.6          1960         0.0      0.0  \n",
       "2           4.9          1960         0.0      0.0  \n",
       "3           6.0          1960         0.0      0.0  \n",
       "4           6.5          1960         0.0      0.0  "
      ]
     },
     "execution_count": 6,
     "metadata": {},
     "output_type": "execute_result"
    }
   ],
   "source": [
    "train.head()"
   ]
  },
  {
   "cell_type": "markdown",
   "metadata": {},
   "source": [
    "#### Step 2).  Using a Custom Loss Function\n",
    "\n",
    "To avoid some of the pitfalls of using a loss function that measures squared error, we're going to modify it a little bit.  This is also a useful skill in practice because lots of projects will require something precise that's not available out-of-the-box in a library.\n",
    "\n",
    "`Scitkit-Learn` allows for custom loss functions relatively easily\n",
    "\n",
    "We're going to instead use the **mean squared log error**.  It has the following form:\n",
    "\n",
    "$$ \\frac{\\sum{log_{e}(y - \\bar{y})^2}}{n} $$\n",
    "\n",
    "The easiest way to do this is the following:\n",
    "\n",
    " - take the log of y using `np.log1p` to avoid the hassles of dealing with negative values\n",
    " - fit your model to that, and then calculate the resulting mean squared error\n",
    " \n",
    "So your job is two fold:\n",
    " - log transform the target variable (revenue)\n",
    " - create a function called `mean_squared_log_error` according to the specifications defined here:  https://scikit-learn.org/stable/modules/generated/sklearn.model_selection.cross_val_score.html, under the heading for the `scoring` argument\n",
    " - to test that you did this correctly, run a 10-fold univariate linear regression on the training set using the `popularity` column as `X` and `revenue` as y.  The correct value should be 60.7."
   ]
  },
  {
   "cell_type": "code",
   "execution_count": 13,
   "metadata": {},
   "outputs": [],
   "source": [
    "#log transformation: \n",
    "#because r Squared value pays more attention to the larger values and ignores smaller values\n",
    "train['revenue'] = np.log1p(train['revenue'])"
   ]
  },
  {
   "cell_type": "code",
   "execution_count": 15,
   "metadata": {},
   "outputs": [],
   "source": [
    "#create a function: Mean Squared Log Error\n",
    "#cannot take the log of a negative number \n",
    "# takes 3 arguments\n",
    "#mean squared error = MSE\n",
    "def mean_squared_log_error(model, X, y):\n",
    "    error = model.predict(X) - y\n",
    "    mse = np.mean(error**2)\n",
    "    return mse"
   ]
  },
  {
   "cell_type": "code",
   "execution_count": 16,
   "metadata": {},
   "outputs": [],
   "source": [
    "lreg = LinearRegression()"
   ]
  },
  {
   "cell_type": "code",
   "execution_count": 17,
   "metadata": {},
   "outputs": [],
   "source": [
    "X = train[['popularity']]\n",
    "y = train['revenue']"
   ]
  },
  {
   "cell_type": "code",
   "execution_count": 19,
   "metadata": {},
   "outputs": [],
   "source": [
    "scores = cross_val_score(estimator=lreg, X=X, y=y, scoring=mean_squared_log_error, cv=10)"
   ]
  },
  {
   "cell_type": "code",
   "execution_count": 20,
   "metadata": {},
   "outputs": [
    {
     "data": {
      "text/plain": [
       "array([62.62649998, 71.38243578, 70.84036913, 65.65364884, 64.9774155 ,\n",
       "       59.57212907, 55.58544199, 52.88254619, 51.54740026, 52.23485259])"
      ]
     },
     "execution_count": 20,
     "metadata": {},
     "output_type": "execute_result"
    }
   ],
   "source": [
    "scores"
   ]
  },
  {
   "cell_type": "code",
   "execution_count": 21,
   "metadata": {},
   "outputs": [
    {
     "data": {
      "text/plain": [
       "60.73027393164422"
      ]
     },
     "execution_count": 21,
     "metadata": {},
     "output_type": "execute_result"
    }
   ],
   "source": [
    "scores.mean()"
   ]
  },
  {
   "cell_type": "markdown",
   "metadata": {},
   "source": [
    "#### Step 3).  Distributional Inference of Your Continuous Variables\n",
    "\n",
    "This dataset is far from normal.  Use the `probplot()` method to find the *least* normal variable among your numeric variables, judging by the r-squared value of the resulting line.  \n",
    "\n",
    "Then, see if log-transforming improves its behavior at all.  Use a comparison between your validation scores in a univariate regression between the treated and untreated versions of the variable as your indicator of whether or not this made anything better."
   ]
  },
  {
   "cell_type": "code",
   "execution_count": 5,
   "metadata": {},
   "outputs": [
    {
     "data": {
      "image/png": "[encoded data removed]",
      "text/plain": [
       "<Figure size 432x288 with 1 Axes>"
      ]
     },
     "metadata": {
      "needs_background": "light"
     },
     "output_type": "display_data"
    }
   ],
   "source": [
    "# Hypo distrib vs your data\n",
    "vals, model = probplot(train['vote_count'], plot=plt)"
   ]
  },
  {
   "cell_type": "code",
   "execution_count": 23,
   "metadata": {},
   "outputs": [],
   "source": [
    "# Creating colms with only numerical value, minus the revenue\n",
    "num_cols = num_cols = train.select_dtypes(include=np.number).columns.tolist()\n",
    "num_cols.remove('revenue')"
   ]
  },
  {
   "cell_type": "code",
   "execution_count": 26,
   "metadata": {},
   "outputs": [],
   "source": [
    "#r squared value: ask how this one came about. Nested loop. Can also make the plots individually. \n",
    "rsq = [probplot(train[num_cols[i]])[1][2] for i in range(len(num_cols))]"
   ]
  },
  {
   "cell_type": "code",
   "execution_count": 27,
   "metadata": {},
   "outputs": [
    {
     "data": {
      "text/plain": [
       "[0.7759321140913117,\n",
       " 0.7484030236487506,\n",
       " 0.7979080090154935,\n",
       " 0.5965756297041135,\n",
       " 0.9934328572787294,\n",
       " 0.9368789697671646,\n",
       " 0.7803944624567354]"
      ]
     },
     "execution_count": 27,
     "metadata": {},
     "output_type": "execute_result"
    }
   ],
   "source": [
    "rsq"
   ]
  },
  {
   "cell_type": "code",
   "execution_count": 35,
   "metadata": {},
   "outputs": [],
   "source": [
    "min = rsq.index(min(rsq))"
   ]
  },
  {
   "cell_type": "code",
   "execution_count": 38,
   "metadata": {},
   "outputs": [
    {
     "data": {
      "text/plain": [
       "'vote_count'"
      ]
     },
     "execution_count": 38,
     "metadata": {},
     "output_type": "execute_result"
    }
   ],
   "source": [
    "num_cols[min]\n",
    "#this is the least normal variable in the data set 0.5965"
   ]
  },
  {
   "cell_type": "code",
   "execution_count": 40,
   "metadata": {},
   "outputs": [],
   "source": [
    "vc_score1 = cross_val_score(estimator=lreg, X=train[['vote_count']], y=y, scoring=mean_squared_log_error, cv=10)"
   ]
  },
  {
   "cell_type": "code",
   "execution_count": 47,
   "metadata": {},
   "outputs": [
    {
     "data": {
      "text/plain": [
       "65.94013966051395"
      ]
     },
     "execution_count": 47,
     "metadata": {},
     "output_type": "execute_result"
    }
   ],
   "source": [
    "vc_score1.mean()"
   ]
  },
  {
   "cell_type": "code",
   "execution_count": 44,
   "metadata": {},
   "outputs": [],
   "source": [
    "vc_score2 = cross_val_score(estimator=lreg, X=np.log1p(train[['vote_count']]), y=y, scoring=mean_squared_log_error, cv=100)"
   ]
  },
  {
   "cell_type": "code",
   "execution_count": 46,
   "metadata": {},
   "outputs": [
    {
     "data": {
      "text/plain": [
       "43.93631105103633"
      ]
     },
     "execution_count": 46,
     "metadata": {},
     "output_type": "execute_result"
    }
   ],
   "source": [
    "vc_score2.mean() \n",
    "# you want smaller number for the error, r2 want the higher number (close to 1)"
   ]
  },
  {
   "cell_type": "markdown",
   "metadata": {},
   "source": [
    "#### Step 4).  Encoding the `Director` Column\n",
    "\n",
    "The `Director` column is a good example of some of the challenges of dealing with categorical data.  If George Lucas or Steven Spielberg direct a film, there's a good chance that has a non-random impact on a film's bottom line.  However, there are a lot of unique values, most of which are probably non-impactful.  \n",
    "\n",
    "Creating a column for everyone is probably not a good idea, but there's also no clear 'order' you could assign them just by looking at their labels.  \n",
    "\n",
    "In this step you're going to try two different techniques to see which one works better on your dataset.\n",
    "\n",
    "**Technique 1:**  Only include directors that have a value count of at least 10 *in your training set*, and set everything else to other.  \n",
    "\n",
    "So:\n",
    "\n",
    " - transform the column accordingly (you can make a new column if that's easier)\n",
    " - transform the same column in your test set so that if a director's name *doesn't* appear in your new training column it gets set to `Other`"
   ]
  },
  {
   "cell_type": "code",
   "execution_count": 57,
   "metadata": {},
   "outputs": [
    {
     "data": {
      "text/plain": [
       "Woody Allen                                   42\n",
       "Clint Eastwood                                32\n",
       "Steven Spielberg                              28\n",
       "Martin Scorsese                               27\n",
       "Joel Schumacher                               21\n",
       "Brian De Palma                                20\n",
       "Ridley Scott                                  20\n",
       "Ron Howard                                    20\n",
       "Steven Soderbergh                             20\n",
       "Wes Craven                                    19\n",
       "Tim Burton                                    18\n",
       "Mike Nichols                                  18\n",
       "John Carpenter                                18\n",
       "Barry Levinson                                17\n",
       "Norman Jewison                                17\n",
       "Sidney Lumet                                  17\n",
       "David Cronenberg                              17\n",
       "Francis Ford Coppola                          17\n",
       "Oliver Stone                                  17\n",
       "Robert Zemeckis                               16\n",
       "Richard Donner                                16\n",
       "Blake Edwards                                 16\n",
       "Peter Hyams                                   16\n",
       "Rob Reiner                                    16\n",
       "Roman Polanski                                16\n",
       "John Landis                                   16\n",
       "Stephen Herek                                 16\n",
       "Tony Scott                                    16\n",
       "Walter Hill                                   16\n",
       "David Lynch                                   15\n",
       "                                              ..\n",
       "Casey La Scala                                 1\n",
       "Mark McQueen                                   1\n",
       "Ryan Polito                                    1\n",
       "Paul Hyett                                     1\n",
       "Mark Palansky                                  1\n",
       "David Auburn                                   1\n",
       "Inon Shampanier                                1\n",
       "Jang Hoon                                      1\n",
       "Nelson Shin                                    1\n",
       "Larry Ferguson                                 1\n",
       "Christopher Kenneally                          1\n",
       "Bobby Gene Leonard                             1\n",
       "Anthony Hemingway                              1\n",
       "Nick Morris|Laurence Connor                    1\n",
       "Banksy                                         1\n",
       "GÃ©rald Hustache-Mathieu                       1\n",
       "Arnaud Desplechin                              1\n",
       "Jacques Audiard                                1\n",
       "Paul Provenza                                  1\n",
       "Stevan Mena                                    1\n",
       "Mike Gabriel|Eric Goldberg                     1\n",
       "Matteo Garrone                                 1\n",
       "Jeffrey Bloom                                  1\n",
       "Dianne Jackson|Jimmy T. Murakami               1\n",
       "Jonah Markowitz                                1\n",
       "Gregory Mackenzie                              1\n",
       "Jack Starrett                                  1\n",
       "Chris Holt|Stephen Cooter|Michael Lachmann     1\n",
       "Adrian Maben                                   1\n",
       "Dexter Fletcher                                1\n",
       "Name: director, Length: 4035, dtype: int64"
      ]
     },
     "execution_count": 57,
     "metadata": {},
     "output_type": "execute_result"
    }
   ],
   "source": [
    "#Transform director colms\n",
    "train.director.value_counts()"
   ]
  },
  {
   "cell_type": "code",
   "execution_count": 59,
   "metadata": {},
   "outputs": [],
   "source": [
    "cts_director= train.groupby('director')['director'].transform('count')\n",
    "#Makes a new colm with the director in the training set"
   ]
  },
  {
   "cell_type": "code",
   "execution_count": 63,
   "metadata": {},
   "outputs": [
    {
     "data": {
      "text/plain": [
       "0    12.0\n",
       "1     8.0\n",
       "2     7.0\n",
       "3    12.0\n",
       "4     1.0\n",
       "Name: director, dtype: float64"
      ]
     },
     "execution_count": 63,
     "metadata": {},
     "output_type": "execute_result"
    }
   ],
   "source": [
    "cts_director.head()"
   ]
  },
  {
   "cell_type": "code",
   "execution_count": 66,
   "metadata": {},
   "outputs": [],
   "source": [
    "train['top_director'] = np.where(cts_director > 10, train['director'], 'Other')\n",
    "#(where director is greater than 10 it is equal to itself otherwise the value is other)"
   ]
  },
  {
   "cell_type": "code",
   "execution_count": null,
   "metadata": {},
   "outputs": [],
   "source": [
    "#Because both the train and the test set have to match.\n",
    "test['top_director'] = np.where(test['director'].isin(train['top_director]), test['director'], 'Other')"
   ]
  },
  {
   "cell_type": "markdown",
   "metadata": {},
   "source": [
    "**Technique 2:** Use target encoding to transform the column instead, and use the results from your training set to transform your test set.  There are a lot of directors in your test set that are not in your training set, and this will result in missing values.  Fill these in with the column average.\n",
    "\n",
    "**Bonus:** The method we're using here is a little blunt because our average value doesn't account for how often a particular value occurs.  A more nuanced approach to is to take some sort of weighted share between the overall column average and average of your particular unique value.  A good article on this is here:  https://maxhalford.github.io/blog/target-encoding-done-the-right-way/"
   ]
  },
  {
   "cell_type": "code",
   "execution_count": null,
   "metadata": {},
   "outputs": [],
   "source": [
    "#use the groupby methods for the average value of each director's gross revenue\n",
    "#map the values to what we already have in the training and test set. \n",
    "#Dont forget to fill in the missing value on the test set.\n",
    "    #Downside is that does not count how frequently a value occurs.\n",
    "    #better way would be to take the wieghted share. see the link above. \n",
    "#Then concat the data so the train and test colms match"
   ]
  },
  {
   "cell_type": "markdown",
   "metadata": {},
   "source": [
    "Use 10-fold univariate regression on both to see which one gives you a better result."
   ]
  },
  {
   "cell_type": "code",
   "execution_count": null,
   "metadata": {},
   "outputs": [],
   "source": [
    "#Hint for the colm th you will one hot encode, you can simply pass pd.get_dummies(train['director1']) in the X colm"
   ]
  },
  {
   "cell_type": "markdown",
   "metadata": {},
   "source": [
    "#### Step 5).  Standardize Your Data using the `StandardScaler` module\n",
    "\n",
    " - make sure to `fit` it on the training set and `transform` it on the test set"
   ]
  },
  {
   "cell_type": "code",
   "execution_count": null,
   "metadata": {},
   "outputs": [],
   "source": [
    "#A way to transform or standardize\n",
    "# import the module\n",
    "from sklearn.preprocessing import StandardScaler\n",
    "\n",
    "sc = StandardScaler()\n",
    "\n",
    "# we never actually saved this before\n",
    "train['vote_count'] = np.log1p(train['vote_count'])\n",
    "test['vote_count'] = np.log1p(test['vote_count'])\n",
    "\n",
    "# and grab all numberic columns -- these are the ones that won in this case\n",
    "num_cols = train.select_dtypes(include=np.number).columns.tolist()\n",
    "# except for this one\n",
    "num_cols.remove('revenue')\n",
    "\n",
    "# define X\n",
    "X = train[num_cols]\n",
    "# reduce the test set down to the same number of columns\n",
    "test = test[num_cols]\n",
    "\n",
    "# call fit and transform on the training set\n",
    "X = sc.fit_transform(X)\n",
    "# and then transform the test set as well\n",
    "test = sc.transform(test)"
   ]
  },
  {
   "cell_type": "markdown",
   "metadata": {},
   "source": [
    "#### Step 6).  To get an estimate of your models performance, use 10-fold cross validation on your training set"
   ]
  },
  {
   "cell_type": "code",
   "execution_count": null,
   "metadata": {},
   "outputs": [],
   "source": [
    "#Typically when you want to fit it on all of your training data before submiting"
   ]
  },
  {
   "cell_type": "markdown",
   "metadata": {},
   "source": [
    "#### Step 7).  Now, before making your final predictions for your test sit, fit the model on all of your training data"
   ]
  },
  {
   "cell_type": "code",
   "execution_count": null,
   "metadata": {},
   "outputs": [],
   "source": [
    "#Typically when you want to fit it on all of your training data before submiting on your test set"
   ]
  },
  {
   "cell_type": "markdown",
   "metadata": {},
   "source": [
    "#### Step 8).  Make a prediction on your test set, and save the results as a dataframe, using two columns:\n",
    "\n",
    " - **id**:  the id of your test set rows\n",
    " - **prediction**: your corresponding predictions\n",
    " \n",
    "Submit this to a csv file, using the option `index=False`"
   ]
  },
  {
   "cell_type": "code",
   "execution_count": null,
   "metadata": {},
   "outputs": [],
   "source": [
    "#regularization is penalizing your wieghts of your coeff. \n",
    "#np.expm1 is the inverse log so that you can compare to the original value. "
   ]
  }
 ],
 "metadata": {
  "kernelspec": {
   "display_name": "Python 3",
   "language": "python",
   "name": "python3"
  },
  "language_info": {
   "codemirror_mode": {
    "name": "ipython",
    "version": 3
   },
   "file_extension": ".py",
   "mimetype": "text/x-python",
   "name": "python",
   "nbconvert_exporter": "python",
   "pygments_lexer": "ipython3",
   "version": "3.7.3"
  }
 },
 "nbformat": 4,
 "nbformat_minor": 2
}
